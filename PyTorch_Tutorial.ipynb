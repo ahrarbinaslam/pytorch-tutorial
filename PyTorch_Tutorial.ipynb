{
  "nbformat": 4,
  "nbformat_minor": 0,
  "metadata": {
    "colab": {
      "provenance": [],
      "gpuType": "T4",
      "authorship_tag": "ABX9TyMhWjH7uHXZ+k7Wa6PlDNAl",
      "include_colab_link": true
    },
    "kernelspec": {
      "name": "python3",
      "display_name": "Python 3"
    },
    "language_info": {
      "name": "python"
    },
    "accelerator": "GPU"
  },
  "cells": [
    {
      "cell_type": "markdown",
      "metadata": {
        "id": "view-in-github",
        "colab_type": "text"
      },
      "source": [
        "<a href=\"https://colab.research.google.com/github/ahrarbinaslam/pytorch-tutorial/blob/main/PyTorch_Tutorial.ipynb\" target=\"_parent\"><img src=\"https://colab.research.google.com/assets/colab-badge.svg\" alt=\"Open In Colab\"/></a>"
      ]
    },
    {
      "cell_type": "markdown",
      "source": [
        "#This PyTorch notebook is created by Ahrar Bin Aslam"
      ],
      "metadata": {
        "id": "bbEH8LPYvPc8"
      }
    },
    {
      "cell_type": "code",
      "execution_count": null,
      "metadata": {
        "colab": {
          "base_uri": "https://localhost:8080/"
        },
        "id": "2bzRi0vvnuei",
        "outputId": "a6b56451-16b8-4231-9b4c-8bf601c7cba8"
      },
      "outputs": [
        {
          "output_type": "stream",
          "name": "stdout",
          "text": [
            "2.5.0+cu121\n"
          ]
        }
      ],
      "source": [
        "import torch\n",
        "import numpy as np\n",
        "import pandas as pd\n",
        "import matplotlib.pyplot as plt\n",
        "print(torch.__version__)"
      ]
    },
    {
      "cell_type": "code",
      "source": [
        "!nvidia-smi"
      ],
      "metadata": {
        "colab": {
          "base_uri": "https://localhost:8080/"
        },
        "id": "ZjJv2CWRx4_m",
        "outputId": "ab5ce0d3-6446-4b57-e310-ebe97c9d9ff5"
      },
      "execution_count": null,
      "outputs": [
        {
          "output_type": "stream",
          "name": "stdout",
          "text": [
            "Tue Nov 12 00:31:21 2024       \n",
            "+---------------------------------------------------------------------------------------+\n",
            "| NVIDIA-SMI 535.104.05             Driver Version: 535.104.05   CUDA Version: 12.2     |\n",
            "|-----------------------------------------+----------------------+----------------------+\n",
            "| GPU  Name                 Persistence-M | Bus-Id        Disp.A | Volatile Uncorr. ECC |\n",
            "| Fan  Temp   Perf          Pwr:Usage/Cap |         Memory-Usage | GPU-Util  Compute M. |\n",
            "|                                         |                      |               MIG M. |\n",
            "|=========================================+======================+======================|\n",
            "|   0  Tesla T4                       Off | 00000000:00:04.0 Off |                    0 |\n",
            "| N/A   35C    P8               9W /  70W |      0MiB / 15360MiB |      0%      Default |\n",
            "|                                         |                      |                  N/A |\n",
            "+-----------------------------------------+----------------------+----------------------+\n",
            "                                                                                         \n",
            "+---------------------------------------------------------------------------------------+\n",
            "| Processes:                                                                            |\n",
            "|  GPU   GI   CI        PID   Type   Process name                            GPU Memory |\n",
            "|        ID   ID                                                             Usage      |\n",
            "|=======================================================================================|\n",
            "|  No running processes found                                                           |\n",
            "+---------------------------------------------------------------------------------------+\n"
          ]
        }
      ]
    },
    {
      "cell_type": "code",
      "source": [
        "scalar=torch.tensor(7)\n",
        "scalar\n",
        "scalar.item()\n",
        "scalar.ndim"
      ],
      "metadata": {
        "colab": {
          "base_uri": "https://localhost:8080/"
        },
        "id": "m8v4wIo-yrMX",
        "outputId": "31c4cecd-1d6b-4d6a-ed17-79cbac46a895"
      },
      "execution_count": null,
      "outputs": [
        {
          "output_type": "execute_result",
          "data": {
            "text/plain": [
              "0"
            ]
          },
          "metadata": {},
          "execution_count": 6
        }
      ]
    },
    {
      "cell_type": "code",
      "source": [
        "vector=torch.tensor([8,8])\n",
        "vector.ndim\n"
      ],
      "metadata": {
        "colab": {
          "base_uri": "https://localhost:8080/"
        },
        "id": "AxEAKkMqy10-",
        "outputId": "dbb11b9f-23b5-465c-aaab-21dd759b20b4"
      },
      "execution_count": null,
      "outputs": [
        {
          "output_type": "execute_result",
          "data": {
            "text/plain": [
              "1"
            ]
          },
          "metadata": {},
          "execution_count": 9
        }
      ]
    },
    {
      "cell_type": "code",
      "source": [
        "vector.shape"
      ],
      "metadata": {
        "colab": {
          "base_uri": "https://localhost:8080/"
        },
        "id": "UROadztTzHZG",
        "outputId": "5f9d3c98-6ede-4401-fcf9-a5b766264b8b"
      },
      "execution_count": null,
      "outputs": [
        {
          "output_type": "execute_result",
          "data": {
            "text/plain": [
              "torch.Size([2])"
            ]
          },
          "metadata": {},
          "execution_count": 11
        }
      ]
    },
    {
      "cell_type": "code",
      "source": [
        "matrix=torch.tensor([[1,2],[3,4]])\n",
        "matrix.ndim"
      ],
      "metadata": {
        "colab": {
          "base_uri": "https://localhost:8080/"
        },
        "id": "YDoaAyfkzPLX",
        "outputId": "1d231a1f-abd7-4736-904d-20bbb907afbb"
      },
      "execution_count": null,
      "outputs": [
        {
          "output_type": "execute_result",
          "data": {
            "text/plain": [
              "2"
            ]
          },
          "metadata": {},
          "execution_count": 13
        }
      ]
    },
    {
      "cell_type": "code",
      "source": [
        "matrix.shape"
      ],
      "metadata": {
        "colab": {
          "base_uri": "https://localhost:8080/"
        },
        "id": "bIY6B6uFzZ2q",
        "outputId": "12ab4d83-4c67-49f7-d888-119638b70d27"
      },
      "execution_count": null,
      "outputs": [
        {
          "output_type": "execute_result",
          "data": {
            "text/plain": [
              "torch.Size([2, 2])"
            ]
          },
          "metadata": {},
          "execution_count": 14
        }
      ]
    },
    {
      "cell_type": "code",
      "source": [
        "tensor=torch.tensor([[[1,2],[3,4],[5,6],[7,8]]])\n",
        "tensor"
      ],
      "metadata": {
        "colab": {
          "base_uri": "https://localhost:8080/"
        },
        "id": "HhMkZyFDzoBL",
        "outputId": "a23cf1f2-a976-4e3a-f710-b9fb4cb2a737"
      },
      "execution_count": null,
      "outputs": [
        {
          "output_type": "execute_result",
          "data": {
            "text/plain": [
              "tensor([[[1, 2],\n",
              "         [3, 4],\n",
              "         [5, 6],\n",
              "         [7, 8]]])"
            ]
          },
          "metadata": {},
          "execution_count": 15
        }
      ]
    },
    {
      "cell_type": "code",
      "source": [
        "tensor.shape #It means there is one 4x2 matrix"
      ],
      "metadata": {
        "colab": {
          "base_uri": "https://localhost:8080/"
        },
        "id": "vsOlTfM8z3JJ",
        "outputId": "8c637432-5bd8-48ab-e44d-83d609cfc5c8"
      },
      "execution_count": null,
      "outputs": [
        {
          "output_type": "execute_result",
          "data": {
            "text/plain": [
              "torch.Size([1, 4, 2])"
            ]
          },
          "metadata": {},
          "execution_count": 16
        }
      ]
    },
    {
      "cell_type": "code",
      "source": [
        "tensor.ndim"
      ],
      "metadata": {
        "colab": {
          "base_uri": "https://localhost:8080/"
        },
        "id": "aX8mdAamz4b_",
        "outputId": "ac9b73fd-97c4-4679-d3d2-004d967d6ad7"
      },
      "execution_count": null,
      "outputs": [
        {
          "output_type": "execute_result",
          "data": {
            "text/plain": [
              "3"
            ]
          },
          "metadata": {},
          "execution_count": 17
        }
      ]
    },
    {
      "cell_type": "code",
      "source": [
        "tensor[0]"
      ],
      "metadata": {
        "colab": {
          "base_uri": "https://localhost:8080/"
        },
        "id": "b24WaEcJz5ri",
        "outputId": "f14fdb5f-7779-4cbd-e314-afd21eb46cdf"
      },
      "execution_count": null,
      "outputs": [
        {
          "output_type": "execute_result",
          "data": {
            "text/plain": [
              "tensor([[1, 2],\n",
              "        [3, 4],\n",
              "        [5, 6],\n",
              "        [7, 8]])"
            ]
          },
          "metadata": {},
          "execution_count": 19
        }
      ]
    },
    {
      "cell_type": "code",
      "source": [
        "import torch\n",
        "new_tensor=torch.tensor([[[1,2,3],[4,5,6],[7,8,9]]])\n",
        "new_tensor"
      ],
      "metadata": {
        "colab": {
          "base_uri": "https://localhost:8080/"
        },
        "id": "bC2Ec12SGjpH",
        "outputId": "612dffa5-171d-4d29-b633-967605e89b50"
      },
      "execution_count": null,
      "outputs": [
        {
          "output_type": "execute_result",
          "data": {
            "text/plain": [
              "tensor([[[1, 2, 3],\n",
              "         [4, 5, 6],\n",
              "         [7, 8, 9]]])"
            ]
          },
          "metadata": {},
          "execution_count": 2
        }
      ]
    },
    {
      "cell_type": "code",
      "source": [
        "new_tensor.shape"
      ],
      "metadata": {
        "colab": {
          "base_uri": "https://localhost:8080/"
        },
        "id": "zR1lTkvtG-CY",
        "outputId": "a05c2f3e-f0f5-456a-883c-424ffa0536bb"
      },
      "execution_count": null,
      "outputs": [
        {
          "output_type": "execute_result",
          "data": {
            "text/plain": [
              "torch.Size([1, 3, 3])"
            ]
          },
          "metadata": {},
          "execution_count": 3
        }
      ]
    },
    {
      "cell_type": "markdown",
      "source": [
        "### Random Tensors"
      ],
      "metadata": {
        "id": "zKIH6T0FIYoL"
      }
    },
    {
      "cell_type": "code",
      "source": [
        "random_tensor=torch.rand(11,3,4)\n",
        "random_tensor"
      ],
      "metadata": {
        "colab": {
          "base_uri": "https://localhost:8080/"
        },
        "id": "DVSZ8ZNHIa9K",
        "outputId": "660f4427-7fa4-4531-a2e2-44ac02ac1a7b"
      },
      "execution_count": null,
      "outputs": [
        {
          "output_type": "execute_result",
          "data": {
            "text/plain": [
              "tensor([[[0.6228, 0.3100, 0.6245, 0.1106],\n",
              "         [0.1905, 0.0985, 0.8136, 0.9585],\n",
              "         [0.5662, 0.7570, 0.3037, 0.1239]],\n",
              "\n",
              "        [[0.9076, 0.4255, 0.1110, 0.9406],\n",
              "         [0.7108, 0.5532, 0.0973, 0.2988],\n",
              "         [0.9758, 0.9413, 0.4475, 0.3983]],\n",
              "\n",
              "        [[0.8508, 0.9523, 0.1203, 0.4860],\n",
              "         [0.9191, 0.2138, 0.9701, 0.3482],\n",
              "         [0.4342, 0.8837, 0.5411, 0.4550]],\n",
              "\n",
              "        [[0.5104, 0.9570, 0.9938, 0.9843],\n",
              "         [0.2883, 0.0105, 0.3748, 0.3441],\n",
              "         [0.4853, 0.8725, 0.1377, 0.1065]],\n",
              "\n",
              "        [[0.7109, 0.5706, 0.1071, 0.2960],\n",
              "         [0.2736, 0.1632, 0.7199, 0.0921],\n",
              "         [0.6472, 0.2760, 0.5734, 0.3169]],\n",
              "\n",
              "        [[0.0952, 0.1998, 0.8559, 0.4254],\n",
              "         [0.8617, 0.6839, 0.1820, 0.6207],\n",
              "         [0.5236, 0.3346, 0.9577, 0.5707]],\n",
              "\n",
              "        [[0.5564, 0.3593, 0.4880, 0.1836],\n",
              "         [0.8871, 0.8387, 0.1442, 0.6792],\n",
              "         [0.7213, 0.0184, 0.1127, 0.1169]],\n",
              "\n",
              "        [[0.6153, 0.4341, 0.8079, 0.7447],\n",
              "         [0.8853, 0.0858, 0.9091, 0.9573],\n",
              "         [0.2024, 0.5614, 0.3398, 0.6244]],\n",
              "\n",
              "        [[0.3842, 0.9470, 0.3144, 0.0016],\n",
              "         [0.6384, 0.0016, 0.3319, 0.9539],\n",
              "         [0.0250, 0.7641, 0.2778, 0.5650]],\n",
              "\n",
              "        [[0.3561, 0.9394, 0.3863, 0.2603],\n",
              "         [0.5714, 0.8226, 0.4724, 0.0445],\n",
              "         [0.0580, 0.4386, 0.8714, 0.8179]],\n",
              "\n",
              "        [[0.6745, 0.7787, 0.2541, 0.5985],\n",
              "         [0.7405, 0.0424, 0.9777, 0.8164],\n",
              "         [0.0018, 0.3995, 0.7120, 0.4542]]])"
            ]
          },
          "metadata": {},
          "execution_count": 8
        }
      ]
    },
    {
      "cell_type": "code",
      "source": [
        "random_tensor.shape"
      ],
      "metadata": {
        "colab": {
          "base_uri": "https://localhost:8080/"
        },
        "id": "eUJ-UL1JIhY0",
        "outputId": "90522133-77de-4dec-d8b9-c27ab3e8c617"
      },
      "execution_count": null,
      "outputs": [
        {
          "output_type": "execute_result",
          "data": {
            "text/plain": [
              "torch.Size([11, 3, 4])"
            ]
          },
          "metadata": {},
          "execution_count": 9
        }
      ]
    },
    {
      "cell_type": "code",
      "source": [
        "random_image_size_tensor=torch.rand(size=(224,224,3)) #height, width, colour channel (R,G,B)\n",
        "random_image_size_tensor.shape, random_image_size_tensor.ndim, random_image_size_tensor"
      ],
      "metadata": {
        "colab": {
          "base_uri": "https://localhost:8080/"
        },
        "id": "0tuFhG66Ipc_",
        "outputId": "a50d1907-774f-48fd-b5e5-7612f6d3b3a5"
      },
      "execution_count": null,
      "outputs": [
        {
          "output_type": "execute_result",
          "data": {
            "text/plain": [
              "(torch.Size([224, 224, 3]),\n",
              " 3,\n",
              " tensor([[[0.2319, 0.2337, 0.3545],\n",
              "          [0.2028, 0.0776, 0.3142],\n",
              "          [0.3408, 0.7830, 0.7135],\n",
              "          ...,\n",
              "          [0.3041, 0.2469, 0.1125],\n",
              "          [0.1625, 0.9114, 0.2816],\n",
              "          [0.9776, 0.4154, 0.4600]],\n",
              " \n",
              "         [[0.7283, 0.3317, 0.5624],\n",
              "          [0.7098, 0.8210, 0.0792],\n",
              "          [0.4513, 0.0569, 0.6874],\n",
              "          ...,\n",
              "          [0.0259, 0.9243, 0.9400],\n",
              "          [0.8831, 0.3920, 0.0309],\n",
              "          [0.6203, 0.1586, 0.2384]],\n",
              " \n",
              "         [[0.0722, 0.9552, 0.1145],\n",
              "          [0.2950, 0.2254, 0.6572],\n",
              "          [0.7413, 0.7972, 0.2645],\n",
              "          ...,\n",
              "          [0.5843, 0.2828, 0.8166],\n",
              "          [0.3179, 0.1995, 0.8890],\n",
              "          [0.6428, 0.8083, 0.0508]],\n",
              " \n",
              "         ...,\n",
              " \n",
              "         [[0.6982, 0.7714, 0.5978],\n",
              "          [0.3062, 0.7778, 0.9458],\n",
              "          [0.4821, 0.5849, 0.2086],\n",
              "          ...,\n",
              "          [0.4151, 0.2026, 0.7227],\n",
              "          [0.7752, 0.8261, 0.2682],\n",
              "          [0.3825, 0.4793, 0.2826]],\n",
              " \n",
              "         [[0.4183, 0.2106, 0.5892],\n",
              "          [0.7808, 0.4985, 0.8516],\n",
              "          [0.2068, 0.8776, 0.4107],\n",
              "          ...,\n",
              "          [0.3756, 0.8584, 0.7730],\n",
              "          [0.5651, 0.5177, 0.9493],\n",
              "          [0.9378, 0.7999, 0.1266]],\n",
              " \n",
              "         [[0.0893, 0.0671, 0.4760],\n",
              "          [0.2082, 0.9670, 0.3006],\n",
              "          [0.0855, 0.2222, 0.0701],\n",
              "          ...,\n",
              "          [0.5264, 0.0304, 0.9940],\n",
              "          [0.7429, 0.9393, 0.5154],\n",
              "          [0.2015, 0.4118, 0.9154]]]))"
            ]
          },
          "metadata": {},
          "execution_count": 11
        }
      ]
    },
    {
      "cell_type": "code",
      "source": [
        "new_random_tensor=torch.zeros(size=(1,2))\n",
        "new_random_tensor"
      ],
      "metadata": {
        "colab": {
          "base_uri": "https://localhost:8080/"
        },
        "id": "fGusPLRmJv4y",
        "outputId": "06e45afc-5b5e-4f07-cbe4-490f93be4429"
      },
      "execution_count": null,
      "outputs": [
        {
          "output_type": "execute_result",
          "data": {
            "text/plain": [
              "tensor([[0., 0.]])"
            ]
          },
          "metadata": {},
          "execution_count": 12
        }
      ]
    },
    {
      "cell_type": "code",
      "source": [
        "new_random_tensor=torch.ones(size=(4,4,6))\n",
        "new_random_tensor"
      ],
      "metadata": {
        "colab": {
          "base_uri": "https://localhost:8080/"
        },
        "id": "IKIgKxurJv8s",
        "outputId": "18f3c3f1-da55-4bbd-f1b6-fd290d0f7889"
      },
      "execution_count": null,
      "outputs": [
        {
          "output_type": "execute_result",
          "data": {
            "text/plain": [
              "tensor([[[1., 1., 1., 1., 1., 1.],\n",
              "         [1., 1., 1., 1., 1., 1.],\n",
              "         [1., 1., 1., 1., 1., 1.],\n",
              "         [1., 1., 1., 1., 1., 1.]],\n",
              "\n",
              "        [[1., 1., 1., 1., 1., 1.],\n",
              "         [1., 1., 1., 1., 1., 1.],\n",
              "         [1., 1., 1., 1., 1., 1.],\n",
              "         [1., 1., 1., 1., 1., 1.]],\n",
              "\n",
              "        [[1., 1., 1., 1., 1., 1.],\n",
              "         [1., 1., 1., 1., 1., 1.],\n",
              "         [1., 1., 1., 1., 1., 1.],\n",
              "         [1., 1., 1., 1., 1., 1.]],\n",
              "\n",
              "        [[1., 1., 1., 1., 1., 1.],\n",
              "         [1., 1., 1., 1., 1., 1.],\n",
              "         [1., 1., 1., 1., 1., 1.],\n",
              "         [1., 1., 1., 1., 1., 1.]]])"
            ]
          },
          "metadata": {},
          "execution_count": 13
        }
      ]
    },
    {
      "cell_type": "code",
      "source": [
        "torch.arange(1,10,2) #(start,stop,step)"
      ],
      "metadata": {
        "colab": {
          "base_uri": "https://localhost:8080/"
        },
        "id": "NQ5ozMpbKAug",
        "outputId": "08485021-9ea7-45a8-ce02-708199896d78"
      },
      "execution_count": null,
      "outputs": [
        {
          "output_type": "execute_result",
          "data": {
            "text/plain": [
              "tensor([1, 3, 5, 7, 9])"
            ]
          },
          "metadata": {},
          "execution_count": 16
        }
      ]
    },
    {
      "cell_type": "code",
      "source": [
        "float16_tensor=torch.tensor([1,4,10],dtype=torch.float16, device=\"cuda\") #The default datatype in pytorch is float32\n",
        "float16_tensor.dtype"
      ],
      "metadata": {
        "colab": {
          "base_uri": "https://localhost:8080/"
        },
        "id": "gX2CBr2TMdIQ",
        "outputId": "a7fc29c8-6613-4aae-8eeb-788aa3e8b3ed"
      },
      "execution_count": null,
      "outputs": [
        {
          "output_type": "execute_result",
          "data": {
            "text/plain": [
              "torch.float16"
            ]
          },
          "metadata": {},
          "execution_count": 19
        }
      ]
    },
    {
      "cell_type": "code",
      "source": [
        "float32_tensor=torch.tensor([1.0,4.0,10.0],dtype=None,device=\"cuda\")\n",
        "float32_tensor.dtype"
      ],
      "metadata": {
        "colab": {
          "base_uri": "https://localhost:8080/"
        },
        "id": "B8ckmLU7Nah9",
        "outputId": "6c999fea-c689-4f28-c6b3-e76c06d29856"
      },
      "execution_count": null,
      "outputs": [
        {
          "output_type": "execute_result",
          "data": {
            "text/plain": [
              "torch.float32"
            ]
          },
          "metadata": {},
          "execution_count": 22
        }
      ]
    },
    {
      "cell_type": "code",
      "source": [
        "converted_tensor=float32_tensor.type(torch.float16)\n",
        "converted_tensor"
      ],
      "metadata": {
        "colab": {
          "base_uri": "https://localhost:8080/"
        },
        "id": "-OEHAXauNXfH",
        "outputId": "27435cae-3557-4c65-c63a-16a734f23ebd"
      },
      "execution_count": null,
      "outputs": [
        {
          "output_type": "execute_result",
          "data": {
            "text/plain": [
              "tensor([ 1.,  4., 10.], device='cuda:0', dtype=torch.float16)"
            ]
          },
          "metadata": {},
          "execution_count": 23
        }
      ]
    },
    {
      "cell_type": "code",
      "source": [
        "converted_tensor*float16_tensor"
      ],
      "metadata": {
        "colab": {
          "base_uri": "https://localhost:8080/"
        },
        "id": "u1Wxrg6VN1q2",
        "outputId": "99c250c8-59f5-40bb-ee51-7bad8352375e"
      },
      "execution_count": null,
      "outputs": [
        {
          "output_type": "execute_result",
          "data": {
            "text/plain": [
              "tensor([  1.,  16., 100.], device='cuda:0', dtype=torch.float16)"
            ]
          },
          "metadata": {},
          "execution_count": 26
        }
      ]
    },
    {
      "cell_type": "code",
      "source": [
        "#Create a tensor\n",
        "\n",
        "some_tensor=torch.rand(2,3)\n",
        "some_tensor"
      ],
      "metadata": {
        "colab": {
          "base_uri": "https://localhost:8080/"
        },
        "id": "RfYmiKO-N7bC",
        "outputId": "d4e332cf-9467-4ab5-9399-441707d2cd51"
      },
      "execution_count": null,
      "outputs": [
        {
          "output_type": "execute_result",
          "data": {
            "text/plain": [
              "tensor([[0.5605, 0.0360, 0.1385],\n",
              "        [0.1610, 0.5699, 0.0382]])"
            ]
          },
          "metadata": {},
          "execution_count": 28
        }
      ]
    },
    {
      "cell_type": "code",
      "source": [
        "#Getting details about a tensor\n",
        "\n",
        "print(f\"The datatype of the tensor is {some_tensor.dtype}\")\n",
        "print(f\"The shape of the tensor is {some_tensor.shape}\")\n",
        "print(f\"The device of the tensor is {some_tensor.device}\")"
      ],
      "metadata": {
        "colab": {
          "base_uri": "https://localhost:8080/"
        },
        "id": "x8FLzUtjO5un",
        "outputId": "ba8fb540-2686-44ad-c0ef-95c33baece6b"
      },
      "execution_count": null,
      "outputs": [
        {
          "output_type": "stream",
          "name": "stdout",
          "text": [
            "The datatype of the tensor is torch.float32\n",
            "The shape of the tensor is torch.Size([2, 3])\n",
            "The device of the tensor is cpu\n"
          ]
        }
      ]
    },
    {
      "cell_type": "markdown",
      "source": [
        "### Mathematical Operations on Tensors"
      ],
      "metadata": {
        "id": "fDNdJXBiQAj5"
      }
    },
    {
      "cell_type": "code",
      "source": [
        "tensor1=torch.tensor([1,2,3])\n",
        "tensor1+10"
      ],
      "metadata": {
        "colab": {
          "base_uri": "https://localhost:8080/"
        },
        "id": "TrozGhXuPkPD",
        "outputId": "09e9b97f-fce3-4a84-e012-877e82e02483"
      },
      "execution_count": null,
      "outputs": [
        {
          "output_type": "execute_result",
          "data": {
            "text/plain": [
              "tensor([11, 12, 13])"
            ]
          },
          "metadata": {},
          "execution_count": 35
        }
      ]
    },
    {
      "cell_type": "code",
      "source": [
        "print(tensor1+10)\n",
        "print(tensor1-5)\n",
        "print(tensor1*3)\n",
        "print(tensor1/2)"
      ],
      "metadata": {
        "colab": {
          "base_uri": "https://localhost:8080/"
        },
        "id": "BWOiETXFPp2N",
        "outputId": "e651eb83-5338-4431-9556-1675979b88a3"
      },
      "execution_count": null,
      "outputs": [
        {
          "output_type": "stream",
          "name": "stdout",
          "text": [
            "tensor([11, 12, 13])\n",
            "tensor([-4, -3, -2])\n",
            "tensor([3, 6, 9])\n",
            "tensor([0.5000, 1.0000, 1.5000])\n"
          ]
        }
      ]
    },
    {
      "cell_type": "code",
      "source": [
        "tensor2=torch.tensor([3,4,55])\n",
        "tensor2"
      ],
      "metadata": {
        "colab": {
          "base_uri": "https://localhost:8080/"
        },
        "id": "TtvZNcICQEMu",
        "outputId": "ca1d3aa3-c2b6-4108-dea6-92f1ac0b7df2"
      },
      "execution_count": null,
      "outputs": [
        {
          "output_type": "execute_result",
          "data": {
            "text/plain": [
              "tensor([ 3,  4, 55])"
            ]
          },
          "metadata": {},
          "execution_count": 38
        }
      ]
    },
    {
      "cell_type": "code",
      "source": [
        "print(tensor1+tensor2)\n",
        "print(tensor1*tensor2)\n",
        "\n",
        "torch.mul(tensor1,3)"
      ],
      "metadata": {
        "colab": {
          "base_uri": "https://localhost:8080/"
        },
        "id": "V8jd1XRwQH9t",
        "outputId": "bc4451b7-0add-49ec-92d0-baad668d24e7"
      },
      "execution_count": null,
      "outputs": [
        {
          "output_type": "stream",
          "name": "stdout",
          "text": [
            "tensor([ 4,  6, 58])\n",
            "tensor([  3,   8, 165])\n"
          ]
        },
        {
          "output_type": "execute_result",
          "data": {
            "text/plain": [
              "tensor([3, 6, 9])"
            ]
          },
          "metadata": {},
          "execution_count": 40
        }
      ]
    },
    {
      "cell_type": "code",
      "source": [
        "# Matrix Multiplication on Tensors\n",
        "\n",
        "torch.matmul(tensor1,tensor2)"
      ],
      "metadata": {
        "colab": {
          "base_uri": "https://localhost:8080/"
        },
        "id": "Ta0oo6wlQag5",
        "outputId": "0bccf1e4-5e0f-4b27-9111-f68ccf1a8698"
      },
      "execution_count": null,
      "outputs": [
        {
          "output_type": "execute_result",
          "data": {
            "text/plain": [
              "tensor(176)"
            ]
          },
          "metadata": {},
          "execution_count": 42
        }
      ]
    },
    {
      "cell_type": "markdown",
      "source": [
        "### Aggregate Functions in Python"
      ],
      "metadata": {
        "id": "PLI8F5GoYrcp"
      }
    },
    {
      "cell_type": "code",
      "source": [
        "import torch"
      ],
      "metadata": {
        "id": "2VzAX-tjZLCr"
      },
      "execution_count": null,
      "outputs": []
    },
    {
      "cell_type": "code",
      "source": [
        "x=torch.arange(1,10)\n",
        "x"
      ],
      "metadata": {
        "id": "Z9dhKuX3Qi1_",
        "colab": {
          "base_uri": "https://localhost:8080/"
        },
        "outputId": "6286c133-451d-46c6-ab92-c16112aa3b23"
      },
      "execution_count": null,
      "outputs": [
        {
          "output_type": "execute_result",
          "data": {
            "text/plain": [
              "tensor([1, 2, 3, 4, 5, 6, 7, 8, 9])"
            ]
          },
          "metadata": {},
          "execution_count": 3
        }
      ]
    },
    {
      "cell_type": "code",
      "source": [
        "x.min()"
      ],
      "metadata": {
        "colab": {
          "base_uri": "https://localhost:8080/"
        },
        "id": "Ykp7dFYEZL6p",
        "outputId": "fbb7095a-13b6-42ad-cf24-ea694f68d387"
      },
      "execution_count": null,
      "outputs": [
        {
          "output_type": "execute_result",
          "data": {
            "text/plain": [
              "tensor(1)"
            ]
          },
          "metadata": {},
          "execution_count": 4
        }
      ]
    },
    {
      "cell_type": "code",
      "source": [
        "x.max()"
      ],
      "metadata": {
        "colab": {
          "base_uri": "https://localhost:8080/"
        },
        "id": "4b94JhJRZO3t",
        "outputId": "2b1c9a4c-7733-4fe0-ef37-0681e864128b"
      },
      "execution_count": null,
      "outputs": [
        {
          "output_type": "execute_result",
          "data": {
            "text/plain": [
              "tensor(9)"
            ]
          },
          "metadata": {},
          "execution_count": 5
        }
      ]
    },
    {
      "cell_type": "code",
      "source": [
        "# Note that torch.mean() requires float16 or float32 datatype of the tensor to work\n",
        "\n",
        "x.type(torch.float16).mean()"
      ],
      "metadata": {
        "colab": {
          "base_uri": "https://localhost:8080/"
        },
        "id": "UBJtyLNDZQEb",
        "outputId": "4fe13882-3db7-4c78-9921-f46774db965d"
      },
      "execution_count": null,
      "outputs": [
        {
          "output_type": "execute_result",
          "data": {
            "text/plain": [
              "tensor(5., dtype=torch.float16)"
            ]
          },
          "metadata": {},
          "execution_count": 14
        }
      ]
    },
    {
      "cell_type": "code",
      "source": [
        "x.sum()"
      ],
      "metadata": {
        "colab": {
          "base_uri": "https://localhost:8080/"
        },
        "id": "xL4_T39QZ7Xc",
        "outputId": "0a929584-7f56-436d-cf0c-2cf16ccdac6a"
      },
      "execution_count": null,
      "outputs": [
        {
          "output_type": "execute_result",
          "data": {
            "text/plain": [
              "tensor(45)"
            ]
          },
          "metadata": {},
          "execution_count": 15
        }
      ]
    },
    {
      "cell_type": "markdown",
      "source": [
        "### Finding the positional min and max value"
      ],
      "metadata": {
        "id": "mr7fd4ARa4Fn"
      }
    },
    {
      "cell_type": "code",
      "source": [
        "# We can find the positional min and max value with argmin() and argmax()\n",
        "\n",
        "x.argmin()"
      ],
      "metadata": {
        "colab": {
          "base_uri": "https://localhost:8080/"
        },
        "id": "uYCShR5jaunq",
        "outputId": "48c5f341-083c-477f-8a93-cc2a6523c841"
      },
      "execution_count": null,
      "outputs": [
        {
          "output_type": "execute_result",
          "data": {
            "text/plain": [
              "tensor(0)"
            ]
          },
          "metadata": {},
          "execution_count": 18
        }
      ]
    },
    {
      "cell_type": "code",
      "source": [
        "x.argmax()"
      ],
      "metadata": {
        "colab": {
          "base_uri": "https://localhost:8080/"
        },
        "id": "zwgwjjuqbG7M",
        "outputId": "ce95f318-8d1d-4e63-8493-c38f1f88c13a"
      },
      "execution_count": null,
      "outputs": [
        {
          "output_type": "execute_result",
          "data": {
            "text/plain": [
              "tensor(8)"
            ]
          },
          "metadata": {},
          "execution_count": 17
        }
      ]
    },
    {
      "cell_type": "markdown",
      "source": [
        "### Reshaping, stacking, squeezing and unsqueezing\n",
        "\n",
        "Often times you'll want to reshape or change the dimensions of your tensors without actually changing the values inside them.\n",
        "\n",
        "To do so, some popular methods are:\n",
        "\n",
        "| Method | One-line description |\n",
        "| ----- | ----- |\n",
        "| [`torch.reshape(input, shape)`](https://pytorch.org/docs/stable/generated/torch.reshape.html#torch.reshape) | Reshapes `input` to `shape` (if compatible), can also use `torch.Tensor.reshape()`. |\n",
        "| [`Tensor.view(shape)`](https://pytorch.org/docs/stable/generated/torch.Tensor.view.html) | Returns a view of the original tensor in a different `shape` but shares the same data as the original tensor. |\n",
        "| [`torch.stack(tensors, dim=0)`](https://pytorch.org/docs/1.9.1/generated/torch.stack.html) | Concatenates a sequence of `tensors` along a new dimension (`dim`), all `tensors` must be same size. |\n",
        "| [`torch.squeeze(input)`](https://pytorch.org/docs/stable/generated/torch.squeeze.html) | Squeezes `input` to remove all the dimenions with value `1`. |\n",
        "| [`torch.unsqueeze(input, dim)`](https://pytorch.org/docs/1.9.1/generated/torch.unsqueeze.html) | Returns `input` with a dimension value of `1` added at `dim`. |\n",
        "| [`torch.permute(input, dims)`](https://pytorch.org/docs/stable/generated/torch.permute.html) | Returns a *view* of the original `input` with its dimensions permuted (rearranged) to `dims`. |\n"
      ],
      "metadata": {
        "id": "_CLrVlwjcKFy"
      }
    },
    {
      "cell_type": "code",
      "source": [
        "a=torch.arange(1,11)\n",
        "a, a.shape, a.dtype"
      ],
      "metadata": {
        "colab": {
          "base_uri": "https://localhost:8080/"
        },
        "id": "BvLTTua7bI_b",
        "outputId": "3eea74dd-700c-4d05-f4d7-482c79ca1567"
      },
      "execution_count": null,
      "outputs": [
        {
          "output_type": "execute_result",
          "data": {
            "text/plain": [
              "(tensor([ 1,  2,  3,  4,  5,  6,  7,  8,  9, 10]),\n",
              " torch.Size([10]),\n",
              " torch.int64)"
            ]
          },
          "metadata": {},
          "execution_count": 65
        }
      ]
    },
    {
      "cell_type": "code",
      "source": [
        "a_reshaped=a.reshape(1,10)\n",
        "a_reshaped, a_reshaped.shape"
      ],
      "metadata": {
        "colab": {
          "base_uri": "https://localhost:8080/"
        },
        "id": "Hzno5206cSpd",
        "outputId": "3b20b107-0b29-4251-cb55-8c0337ac8bef"
      },
      "execution_count": null,
      "outputs": [
        {
          "output_type": "execute_result",
          "data": {
            "text/plain": [
              "(tensor([[ 1,  2,  3,  4,  5,  6,  7,  8,  9, 10]]), torch.Size([1, 10]))"
            ]
          },
          "metadata": {},
          "execution_count": 66
        }
      ]
    },
    {
      "cell_type": "code",
      "source": [
        "# Changing the view of a tensor with torch.view() really only creates a new view of the same tensor.\n",
        "#So changing the view changes the original tensor too.\n",
        "\n",
        "z=a.view(2,5)\n",
        "z"
      ],
      "metadata": {
        "colab": {
          "base_uri": "https://localhost:8080/"
        },
        "id": "XpQKYjGbcbTm",
        "outputId": "d7576715-6050-48ce-e42b-44b1565d6671"
      },
      "execution_count": null,
      "outputs": [
        {
          "output_type": "execute_result",
          "data": {
            "text/plain": [
              "tensor([[ 1,  2,  3,  4,  5],\n",
              "        [ 6,  7,  8,  9, 10]])"
            ]
          },
          "metadata": {},
          "execution_count": 39
        }
      ]
    },
    {
      "cell_type": "code",
      "source": [
        "z[:, 0]=111\n",
        "z, a"
      ],
      "metadata": {
        "colab": {
          "base_uri": "https://localhost:8080/"
        },
        "id": "tSbmFpogc0Hs",
        "outputId": "5063173d-cd44-4c45-de34-f30de2bc8604"
      },
      "execution_count": null,
      "outputs": [
        {
          "output_type": "execute_result",
          "data": {
            "text/plain": [
              "(tensor([[111,   2,   3,   4,   5],\n",
              "         [111,   7,   8,   9,  10]]),\n",
              " tensor([111,   2,   3,   4,   5, 111,   7,   8,   9,  10]))"
            ]
          },
          "metadata": {},
          "execution_count": 41
        }
      ]
    },
    {
      "cell_type": "code",
      "source": [
        "# Stack tensors on top of each other\n",
        "\n",
        "x_stacked=torch.stack([a,a,a,a], dim=1)\n",
        "x_stacked"
      ],
      "metadata": {
        "colab": {
          "base_uri": "https://localhost:8080/"
        },
        "id": "9bibUJ_4def1",
        "outputId": "8654638d-8d20-4e56-b7bd-9fae044b5b1c"
      },
      "execution_count": null,
      "outputs": [
        {
          "output_type": "execute_result",
          "data": {
            "text/plain": [
              "tensor([[ 1,  1,  1,  1],\n",
              "        [ 2,  2,  2,  2],\n",
              "        [ 3,  3,  3,  3],\n",
              "        [ 4,  4,  4,  4],\n",
              "        [ 5,  5,  5,  5],\n",
              "        [ 6,  6,  6,  6],\n",
              "        [ 7,  7,  7,  7],\n",
              "        [ 8,  8,  8,  8],\n",
              "        [ 9,  9,  9,  9],\n",
              "        [10, 10, 10, 10]])"
            ]
          },
          "metadata": {},
          "execution_count": 60
        }
      ]
    },
    {
      "cell_type": "code",
      "source": [
        "x_hstacked=torch.hstack([a,a,a,a])\n",
        "x_hstacked"
      ],
      "metadata": {
        "colab": {
          "base_uri": "https://localhost:8080/"
        },
        "id": "C69KZOMQdzSG",
        "outputId": "f6a218bb-043d-4602-f217-052448829b27"
      },
      "execution_count": null,
      "outputs": [
        {
          "output_type": "execute_result",
          "data": {
            "text/plain": [
              "tensor([ 1,  2,  3,  4,  5,  6,  7,  8,  9, 10,  1,  2,  3,  4,  5,  6,  7,  8,\n",
              "         9, 10,  1,  2,  3,  4,  5,  6,  7,  8,  9, 10,  1,  2,  3,  4,  5,  6,\n",
              "         7,  8,  9, 10])"
            ]
          },
          "metadata": {},
          "execution_count": 57
        }
      ]
    },
    {
      "cell_type": "code",
      "source": [
        "x_vstacked=torch.vstack([a,a,a,a])\n",
        "x_vstacked"
      ],
      "metadata": {
        "colab": {
          "base_uri": "https://localhost:8080/"
        },
        "id": "7brcWDp7eNcr",
        "outputId": "6384c339-729d-4ce5-d238-b53fbf9474f3"
      },
      "execution_count": null,
      "outputs": [
        {
          "output_type": "execute_result",
          "data": {
            "text/plain": [
              "tensor([[ 1,  2,  3,  4,  5,  6,  7,  8,  9, 10],\n",
              "        [ 1,  2,  3,  4,  5,  6,  7,  8,  9, 10],\n",
              "        [ 1,  2,  3,  4,  5,  6,  7,  8,  9, 10],\n",
              "        [ 1,  2,  3,  4,  5,  6,  7,  8,  9, 10]])"
            ]
          },
          "metadata": {},
          "execution_count": 59
        }
      ]
    },
    {
      "cell_type": "code",
      "source": [
        "# Squeeze\n",
        "\n",
        "print(f\"Previous tensor {a_reshaped}\")\n",
        "print(f\"Previous tensor shape {a_reshaped.shape}\")\n",
        "\n",
        "new_tensor=torch.squeeze(a)\n",
        "new_tensor\n",
        "\n",
        "print(f\"New tensor {new_tensor}\")\n",
        "print(f\"New tensor shape {new_tensor.shape}\")"
      ],
      "metadata": {
        "colab": {
          "base_uri": "https://localhost:8080/"
        },
        "id": "sxZc7ZEeedYx",
        "outputId": "f9b0408d-8a2e-4b8b-bf3c-cdf76005f43e"
      },
      "execution_count": null,
      "outputs": [
        {
          "output_type": "stream",
          "name": "stdout",
          "text": [
            "Previous tensor tensor([[ 1,  2,  3,  4,  5,  6,  7,  8,  9, 10]])\n",
            "Previous tensor shape torch.Size([1, 10])\n",
            "New tensor tensor([ 1,  2,  3,  4,  5,  6,  7,  8,  9, 10])\n",
            "New tensor shape torch.Size([10])\n"
          ]
        }
      ]
    },
    {
      "cell_type": "code",
      "source": [
        "print(f\"New Tensor after squeezing {new_tensor}\")\n",
        "print(f\"New tensor shape {new_tensor.shape}\")\n",
        "\n",
        "new_tensor_unsqueezed=new_tensor.unsqueeze(dim=0)\n",
        "\n",
        "print(f\"New Unsqueezed Tensor {new_tensor_unsqueezed}\")\n",
        "print(f\"New unsqueezed tensor shape {new_tensor_unsqueezed.shape}\")"
      ],
      "metadata": {
        "colab": {
          "base_uri": "https://localhost:8080/"
        },
        "id": "6Ej4U3i0gSNK",
        "outputId": "2dd122b6-5ff6-486e-bc30-958859bb355c"
      },
      "execution_count": null,
      "outputs": [
        {
          "output_type": "stream",
          "name": "stdout",
          "text": [
            "New Tensor after squeezing tensor([ 1,  2,  3,  4,  5,  6,  7,  8,  9, 10])\n",
            "New tensor shape torch.Size([10])\n",
            "New Unsqueezed Tensor tensor([[ 1,  2,  3,  4,  5,  6,  7,  8,  9, 10]])\n",
            "New unsqueezed tensor shape torch.Size([1, 10])\n"
          ]
        }
      ]
    },
    {
      "cell_type": "code",
      "source": [
        "import torch"
      ],
      "metadata": {
        "id": "sf1SwgTCS7Fg"
      },
      "execution_count": null,
      "outputs": []
    },
    {
      "cell_type": "code",
      "source": [
        "# permute --> rearranges the dimensions of a target tensor in a specified order\n",
        "\n",
        "x_original=torch.rand(size=(224,224,3))\n",
        "\n",
        "x_permuted=x_original.permute(2,0,1)  #0->2, 1->0, 2->1\n",
        "\n",
        "print(f\"The shape of the original tensor: {x_original.shape}\")\n",
        "print(f\"The shape of the original tensor: {x_permuted.shape}\")\n"
      ],
      "metadata": {
        "id": "v16XATMCilZ6",
        "colab": {
          "base_uri": "https://localhost:8080/"
        },
        "outputId": "7e542630-247d-4398-a4a1-258ccaa95d96"
      },
      "execution_count": null,
      "outputs": [
        {
          "output_type": "stream",
          "name": "stdout",
          "text": [
            "The shape of the original tensor: torch.Size([224, 224, 3])\n",
            "The shape of the original tensor: torch.Size([3, 224, 224])\n"
          ]
        }
      ]
    },
    {
      "cell_type": "code",
      "source": [
        "x_original[0,0,0]=2311\n",
        "x_original"
      ],
      "metadata": {
        "colab": {
          "base_uri": "https://localhost:8080/"
        },
        "id": "lO8com1AS719",
        "outputId": "0984b2b4-c5c3-4721-9b9a-177e50677545"
      },
      "execution_count": null,
      "outputs": [
        {
          "output_type": "execute_result",
          "data": {
            "text/plain": [
              "tensor([[[2.3110e+03, 5.0099e-01, 5.0145e-01],\n",
              "         [1.7424e-02, 4.4347e-01, 3.9588e-01],\n",
              "         [2.2015e-01, 7.7596e-01, 2.2209e-01],\n",
              "         ...,\n",
              "         [1.8106e-01, 7.1310e-01, 1.0555e-01],\n",
              "         [5.8546e-01, 3.8593e-01, 3.4516e-01],\n",
              "         [6.4656e-01, 1.9744e-01, 1.5678e-01]],\n",
              "\n",
              "        [[7.1033e-01, 2.8765e-01, 9.4268e-01],\n",
              "         [6.9138e-01, 6.7628e-01, 5.9448e-01],\n",
              "         [4.8262e-01, 3.6755e-02, 7.2052e-01],\n",
              "         ...,\n",
              "         [9.9792e-01, 4.0067e-01, 9.1673e-01],\n",
              "         [1.5502e-01, 8.6206e-01, 8.2530e-01],\n",
              "         [6.2980e-01, 2.3702e-01, 7.7876e-01]],\n",
              "\n",
              "        [[5.8715e-01, 7.2000e-01, 8.6955e-01],\n",
              "         [8.7489e-01, 7.8170e-01, 7.8562e-01],\n",
              "         [8.3072e-01, 5.8362e-01, 3.4669e-01],\n",
              "         ...,\n",
              "         [1.6620e-01, 9.4291e-01, 9.9374e-01],\n",
              "         [8.7836e-01, 3.8977e-01, 8.5963e-01],\n",
              "         [5.1825e-01, 5.1299e-02, 3.9944e-01]],\n",
              "\n",
              "        ...,\n",
              "\n",
              "        [[7.6881e-01, 1.8581e-01, 9.7646e-01],\n",
              "         [8.4993e-01, 4.8795e-01, 3.0726e-01],\n",
              "         [6.7148e-01, 3.6827e-01, 2.7821e-01],\n",
              "         ...,\n",
              "         [9.8269e-01, 8.1186e-01, 2.1033e-01],\n",
              "         [8.9788e-01, 8.5278e-01, 2.4856e-01],\n",
              "         [1.4385e-01, 7.3802e-01, 9.6622e-01]],\n",
              "\n",
              "        [[4.2328e-02, 2.7966e-01, 6.0802e-01],\n",
              "         [6.7393e-01, 6.8125e-01, 6.9105e-01],\n",
              "         [8.5503e-02, 2.4506e-01, 6.5484e-01],\n",
              "         ...,\n",
              "         [8.8205e-01, 2.4369e-01, 6.2423e-01],\n",
              "         [7.4685e-01, 3.1946e-01, 5.2918e-02],\n",
              "         [5.9105e-01, 6.5976e-01, 1.9823e-01]],\n",
              "\n",
              "        [[3.3107e-01, 8.1478e-01, 6.9822e-01],\n",
              "         [4.5702e-01, 3.6558e-01, 2.4834e-01],\n",
              "         [5.1128e-01, 6.3502e-03, 1.7819e-01],\n",
              "         ...,\n",
              "         [5.0323e-01, 5.3189e-01, 9.4851e-01],\n",
              "         [2.6038e-01, 1.9058e-01, 5.7887e-01],\n",
              "         [2.7643e-01, 7.4179e-01, 5.9645e-01]]])"
            ]
          },
          "metadata": {},
          "execution_count": 7
        }
      ]
    },
    {
      "cell_type": "code",
      "source": [
        "x_permuted #If we change the value of x_original then the same value will be copied to x_permuted"
      ],
      "metadata": {
        "colab": {
          "base_uri": "https://localhost:8080/"
        },
        "id": "OugAhz59T2IN",
        "outputId": "bbd8276a-55d1-4455-f6f1-a51b200149ee"
      },
      "execution_count": null,
      "outputs": [
        {
          "output_type": "execute_result",
          "data": {
            "text/plain": [
              "tensor([[[2.3110e+03, 1.7424e-02, 2.2015e-01,  ..., 1.8106e-01,\n",
              "          5.8546e-01, 6.4656e-01],\n",
              "         [7.1033e-01, 6.9138e-01, 4.8262e-01,  ..., 9.9792e-01,\n",
              "          1.5502e-01, 6.2980e-01],\n",
              "         [5.8715e-01, 8.7489e-01, 8.3072e-01,  ..., 1.6620e-01,\n",
              "          8.7836e-01, 5.1825e-01],\n",
              "         ...,\n",
              "         [7.6881e-01, 8.4993e-01, 6.7148e-01,  ..., 9.8269e-01,\n",
              "          8.9788e-01, 1.4385e-01],\n",
              "         [4.2328e-02, 6.7393e-01, 8.5503e-02,  ..., 8.8205e-01,\n",
              "          7.4685e-01, 5.9105e-01],\n",
              "         [3.3107e-01, 4.5702e-01, 5.1128e-01,  ..., 5.0323e-01,\n",
              "          2.6038e-01, 2.7643e-01]],\n",
              "\n",
              "        [[5.0099e-01, 4.4347e-01, 7.7596e-01,  ..., 7.1310e-01,\n",
              "          3.8593e-01, 1.9744e-01],\n",
              "         [2.8765e-01, 6.7628e-01, 3.6755e-02,  ..., 4.0067e-01,\n",
              "          8.6206e-01, 2.3702e-01],\n",
              "         [7.2000e-01, 7.8170e-01, 5.8362e-01,  ..., 9.4291e-01,\n",
              "          3.8977e-01, 5.1299e-02],\n",
              "         ...,\n",
              "         [1.8581e-01, 4.8795e-01, 3.6827e-01,  ..., 8.1186e-01,\n",
              "          8.5278e-01, 7.3802e-01],\n",
              "         [2.7966e-01, 6.8125e-01, 2.4506e-01,  ..., 2.4369e-01,\n",
              "          3.1946e-01, 6.5976e-01],\n",
              "         [8.1478e-01, 3.6558e-01, 6.3502e-03,  ..., 5.3189e-01,\n",
              "          1.9058e-01, 7.4179e-01]],\n",
              "\n",
              "        [[5.0145e-01, 3.9588e-01, 2.2209e-01,  ..., 1.0555e-01,\n",
              "          3.4516e-01, 1.5678e-01],\n",
              "         [9.4268e-01, 5.9448e-01, 7.2052e-01,  ..., 9.1673e-01,\n",
              "          8.2530e-01, 7.7876e-01],\n",
              "         [8.6955e-01, 7.8562e-01, 3.4669e-01,  ..., 9.9374e-01,\n",
              "          8.5963e-01, 3.9944e-01],\n",
              "         ...,\n",
              "         [9.7646e-01, 3.0726e-01, 2.7821e-01,  ..., 2.1033e-01,\n",
              "          2.4856e-01, 9.6622e-01],\n",
              "         [6.0802e-01, 6.9105e-01, 6.5484e-01,  ..., 6.2423e-01,\n",
              "          5.2918e-02, 1.9823e-01],\n",
              "         [6.9822e-01, 2.4834e-01, 1.7819e-01,  ..., 9.4851e-01,\n",
              "          5.7887e-01, 5.9645e-01]]])"
            ]
          },
          "metadata": {},
          "execution_count": 9
        }
      ]
    },
    {
      "cell_type": "code",
      "source": [
        "#Indexing on tensors\n",
        "\n",
        "x=torch.arange(1,10).reshape(1,3,3)\n",
        "x"
      ],
      "metadata": {
        "colab": {
          "base_uri": "https://localhost:8080/"
        },
        "id": "OKSHS_MDT4ZW",
        "outputId": "f11e6d93-bb94-4e3b-bdac-370c6b69c56f"
      },
      "execution_count": null,
      "outputs": [
        {
          "output_type": "execute_result",
          "data": {
            "text/plain": [
              "tensor([[[1, 2, 3],\n",
              "         [4, 5, 6],\n",
              "         [7, 8, 9]]])"
            ]
          },
          "metadata": {},
          "execution_count": 10
        }
      ]
    },
    {
      "cell_type": "code",
      "source": [
        "#Indexing the first bracket\n",
        "\n",
        "x[0]"
      ],
      "metadata": {
        "colab": {
          "base_uri": "https://localhost:8080/"
        },
        "id": "D5PMIc6lUfIE",
        "outputId": "1d7eee60-7eb2-4d18-cac9-ed67e0124164"
      },
      "execution_count": null,
      "outputs": [
        {
          "output_type": "execute_result",
          "data": {
            "text/plain": [
              "tensor([[1, 2, 3],\n",
              "        [4, 5, 6],\n",
              "        [7, 8, 9]])"
            ]
          },
          "metadata": {},
          "execution_count": 11
        }
      ]
    },
    {
      "cell_type": "code",
      "source": [
        "#Indexing the second bracket\n",
        "\n",
        "x[0][0]"
      ],
      "metadata": {
        "colab": {
          "base_uri": "https://localhost:8080/"
        },
        "id": "VKbpUqHhUhW9",
        "outputId": "0e6e6877-b81c-4102-a070-cc42dc5ff0f5"
      },
      "execution_count": null,
      "outputs": [
        {
          "output_type": "execute_result",
          "data": {
            "text/plain": [
              "tensor([1, 2, 3])"
            ]
          },
          "metadata": {},
          "execution_count": 12
        }
      ]
    },
    {
      "cell_type": "code",
      "source": [
        "#Index the inner most bracket\n",
        "\n",
        "x[0][1][2]"
      ],
      "metadata": {
        "colab": {
          "base_uri": "https://localhost:8080/"
        },
        "id": "sF71HNnbUnrM",
        "outputId": "061aceeb-a22b-4ab2-9aaf-15948671b11c"
      },
      "execution_count": null,
      "outputs": [
        {
          "output_type": "execute_result",
          "data": {
            "text/plain": [
              "tensor(6)"
            ]
          },
          "metadata": {},
          "execution_count": 14
        }
      ]
    },
    {
      "cell_type": "markdown",
      "source": [
        "### Numpy and PyTorch together"
      ],
      "metadata": {
        "id": "jERccghjVJzI"
      }
    },
    {
      "cell_type": "code",
      "source": [
        "import numpy as np\n",
        "\n",
        "new_array=np.arange(1.0,10.0)\n",
        "new_tensor=torch.from_numpy(new_array)\n",
        "\n",
        "print(f\"The array {new_array}\")\n",
        "print(f\"The shape of the array {new_array.shape}\")\n",
        "\n",
        "print(f\"The tensor {new_tensor}\")\n",
        "print(f\"The shape of the tensor {new_tensor.shape}\")"
      ],
      "metadata": {
        "colab": {
          "base_uri": "https://localhost:8080/"
        },
        "id": "H0rh7hRhUqYd",
        "outputId": "f9d70d8e-e4cd-4d08-b242-402f0784693e"
      },
      "execution_count": null,
      "outputs": [
        {
          "output_type": "stream",
          "name": "stdout",
          "text": [
            "The array [1. 2. 3. 4. 5. 6. 7. 8. 9.]\n",
            "The shape of the array (9,)\n",
            "The tensor tensor([1., 2., 3., 4., 5., 6., 7., 8., 9.], dtype=torch.float64)\n",
            "The shape of the tensor torch.Size([9])\n"
          ]
        }
      ]
    },
    {
      "cell_type": "code",
      "source": [
        "new_array.dtype"
      ],
      "metadata": {
        "colab": {
          "base_uri": "https://localhost:8080/"
        },
        "id": "ihZ74r_6VaS8",
        "outputId": "fdc868d0-be14-48e5-9c56-e25c433e0afb"
      },
      "execution_count": null,
      "outputs": [
        {
          "output_type": "execute_result",
          "data": {
            "text/plain": [
              "dtype('float64')"
            ]
          },
          "metadata": {},
          "execution_count": 22
        }
      ]
    },
    {
      "cell_type": "code",
      "source": [
        "#Changing the value of the array, what will it do to the tensor?\n",
        "\n",
        "new_array=new_array + 1\n",
        "print(new_array)\n",
        "print(new_tensor)\n",
        "\n",
        "#The tensor remains unchanged :)"
      ],
      "metadata": {
        "colab": {
          "base_uri": "https://localhost:8080/"
        },
        "id": "1_M3fiWHWlum",
        "outputId": "6e456345-4778-40c0-bb7f-bcee6db0d7ca"
      },
      "execution_count": null,
      "outputs": [
        {
          "output_type": "stream",
          "name": "stdout",
          "text": [
            "[ 3.  4.  5.  6.  7.  8.  9. 10. 11.]\n",
            "tensor([1., 2., 3., 4., 5., 6., 7., 8., 9.], dtype=torch.float64)\n"
          ]
        }
      ]
    },
    {
      "cell_type": "code",
      "source": [
        "#Converting a Tensor into a Numpy Array\n",
        "\n",
        "tensor1=torch.tensor([2.0,4.0,6.0,8.0,10.0])\n",
        "numpy_tensor=tensor1.numpy()\n",
        "numpy_tensor, tensor1\n"
      ],
      "metadata": {
        "colab": {
          "base_uri": "https://localhost:8080/"
        },
        "id": "9aKIuelhW2z9",
        "outputId": "2117368c-a1bd-4832-b921-8bc7c6b12c06"
      },
      "execution_count": null,
      "outputs": [
        {
          "output_type": "execute_result",
          "data": {
            "text/plain": [
              "(array([ 2.,  4.,  6.,  8., 10.], dtype=float32),\n",
              " tensor([ 2.,  4.,  6.,  8., 10.]))"
            ]
          },
          "metadata": {},
          "execution_count": 28
        }
      ]
    },
    {
      "cell_type": "code",
      "source": [
        "numpy_tensor.dtype, tensor1.dtype"
      ],
      "metadata": {
        "colab": {
          "base_uri": "https://localhost:8080/"
        },
        "id": "KBIInthxXfTq",
        "outputId": "26a638cd-b8b2-4f2e-da4f-695519f88756"
      },
      "execution_count": null,
      "outputs": [
        {
          "output_type": "execute_result",
          "data": {
            "text/plain": [
              "(dtype('float32'), torch.float32)"
            ]
          },
          "metadata": {},
          "execution_count": 29
        }
      ]
    },
    {
      "cell_type": "code",
      "source": [
        "import torch"
      ],
      "metadata": {
        "id": "lw8kjJ_uhIzw"
      },
      "execution_count": null,
      "outputs": []
    },
    {
      "cell_type": "code",
      "source": [
        "#Lets make some random but reproducible tensors\n",
        "\n",
        "random_seed=42\n",
        "\n",
        "torch.manual_seed(random_seed)\n",
        "tensor_a=torch.rand(3,4)\n",
        "\n",
        "torch.manual_seed(random_seed)\n",
        "tensor_b=torch.rand(3,4)\n",
        "\n",
        "print(tensor_a)\n",
        "print(tensor_b)\n",
        "print(tensor_a==tensor_b)"
      ],
      "metadata": {
        "id": "zt-G1lHZXn2W",
        "colab": {
          "base_uri": "https://localhost:8080/"
        },
        "outputId": "11278dfa-f45c-4b3e-d5ff-7543c20665b1"
      },
      "execution_count": null,
      "outputs": [
        {
          "output_type": "stream",
          "name": "stdout",
          "text": [
            "tensor([[0.8823, 0.9150, 0.3829, 0.9593],\n",
            "        [0.3904, 0.6009, 0.2566, 0.7936],\n",
            "        [0.9408, 0.1332, 0.9346, 0.5936]])\n",
            "tensor([[0.8823, 0.9150, 0.3829, 0.9593],\n",
            "        [0.3904, 0.6009, 0.2566, 0.7936],\n",
            "        [0.9408, 0.1332, 0.9346, 0.5936]])\n",
            "tensor([[True, True, True, True],\n",
            "        [True, True, True, True],\n",
            "        [True, True, True, True]])\n"
          ]
        }
      ]
    },
    {
      "cell_type": "markdown",
      "source": [
        "### Check for GPU access with PyTorch"
      ],
      "metadata": {
        "id": "rx1y8dxxiyz6"
      }
    },
    {
      "cell_type": "code",
      "source": [
        "!nvidia-smi"
      ],
      "metadata": {
        "colab": {
          "base_uri": "https://localhost:8080/"
        },
        "id": "CKHPVSbxhENJ",
        "outputId": "6715c343-580e-4a04-a0d3-b26321b5d011"
      },
      "execution_count": null,
      "outputs": [
        {
          "output_type": "stream",
          "name": "stdout",
          "text": [
            "Wed Nov 13 03:21:42 2024       \n",
            "+---------------------------------------------------------------------------------------+\n",
            "| NVIDIA-SMI 535.104.05             Driver Version: 535.104.05   CUDA Version: 12.2     |\n",
            "|-----------------------------------------+----------------------+----------------------+\n",
            "| GPU  Name                 Persistence-M | Bus-Id        Disp.A | Volatile Uncorr. ECC |\n",
            "| Fan  Temp   Perf          Pwr:Usage/Cap |         Memory-Usage | GPU-Util  Compute M. |\n",
            "|                                         |                      |               MIG M. |\n",
            "|=========================================+======================+======================|\n",
            "|   0  Tesla T4                       Off | 00000000:00:04.0 Off |                    0 |\n",
            "| N/A   33C    P8               9W /  70W |      0MiB / 15360MiB |      0%      Default |\n",
            "|                                         |                      |                  N/A |\n",
            "+-----------------------------------------+----------------------+----------------------+\n",
            "                                                                                         \n",
            "+---------------------------------------------------------------------------------------+\n",
            "| Processes:                                                                            |\n",
            "|  GPU   GI   CI        PID   Type   Process name                            GPU Memory |\n",
            "|        ID   ID                                                             Usage      |\n",
            "|=======================================================================================|\n",
            "|  No running processes found                                                           |\n",
            "+---------------------------------------------------------------------------------------+\n"
          ]
        }
      ]
    },
    {
      "cell_type": "code",
      "source": [
        "#Check for GPU access with PyTorch\n",
        "torch.cuda.is_available()"
      ],
      "metadata": {
        "colab": {
          "base_uri": "https://localhost:8080/"
        },
        "id": "2Sde-wyNiqMc",
        "outputId": "b58ae0fd-94ce-4bd9-eb38-864d996436fe"
      },
      "execution_count": null,
      "outputs": [
        {
          "output_type": "execute_result",
          "data": {
            "text/plain": [
              "True"
            ]
          },
          "metadata": {},
          "execution_count": 9
        }
      ]
    },
    {
      "cell_type": "code",
      "source": [
        "#Setup device agnostic code\n",
        "\n",
        "device= \"cuda\" if torch.cuda.is_available() else \"cpu\"\n",
        "device"
      ],
      "metadata": {
        "colab": {
          "base_uri": "https://localhost:8080/",
          "height": 36
        },
        "id": "C4FlMkvFi8cw",
        "outputId": "531bd386-c743-47d1-b15c-9e0a048c2dcb"
      },
      "execution_count": null,
      "outputs": [
        {
          "output_type": "execute_result",
          "data": {
            "text/plain": [
              "'cuda'"
            ],
            "application/vnd.google.colaboratory.intrinsic+json": {
              "type": "string"
            }
          },
          "metadata": {},
          "execution_count": 11
        }
      ]
    },
    {
      "cell_type": "code",
      "source": [
        "torch.cuda.device_count()"
      ],
      "metadata": {
        "colab": {
          "base_uri": "https://localhost:8080/"
        },
        "id": "tHoiHfNbjYQf",
        "outputId": "22e94623-1054-4a63-c158-7962db2fece2"
      },
      "execution_count": null,
      "outputs": [
        {
          "output_type": "execute_result",
          "data": {
            "text/plain": [
              "1"
            ]
          },
          "metadata": {},
          "execution_count": 13
        }
      ]
    },
    {
      "cell_type": "code",
      "source": [
        "# Checking if the tensor is on GPU or CPU\n",
        "import torch\n",
        "tensor=torch.tensor([1,2,3])\n",
        "tensor, tensor.device\n",
        "\n",
        "# We can see that by default our tensor is on cpu, we need to shift it to the gpu"
      ],
      "metadata": {
        "id": "JOKOkvUajx6t",
        "colab": {
          "base_uri": "https://localhost:8080/"
        },
        "outputId": "958b62ef-e58b-46b4-8148-60ae4c8f59c3"
      },
      "execution_count": null,
      "outputs": [
        {
          "output_type": "execute_result",
          "data": {
            "text/plain": [
              "(tensor([1, 2, 3]), device(type='cpu'))"
            ]
          },
          "metadata": {},
          "execution_count": 2
        }
      ]
    },
    {
      "cell_type": "code",
      "source": [
        "device=\"cuda\" if torch.cuda.is_available() else \"cpu\"\n",
        "device"
      ],
      "metadata": {
        "colab": {
          "base_uri": "https://localhost:8080/",
          "height": 36
        },
        "id": "qiTkiAxL3jfr",
        "outputId": "8050fc25-efd5-4cee-b6ec-e97216cf0fcf"
      },
      "execution_count": null,
      "outputs": [
        {
          "output_type": "execute_result",
          "data": {
            "text/plain": [
              "'cuda'"
            ],
            "application/vnd.google.colaboratory.intrinsic+json": {
              "type": "string"
            }
          },
          "metadata": {},
          "execution_count": 3
        }
      ]
    },
    {
      "cell_type": "code",
      "source": [
        "tensor_on_gpu=tensor.to(device)\n",
        "tensor_on_gpu"
      ],
      "metadata": {
        "colab": {
          "base_uri": "https://localhost:8080/"
        },
        "id": "n3h36Roj3-qO",
        "outputId": "96cf99da-1ea4-4a9a-a61c-9dfef321dfe6"
      },
      "execution_count": null,
      "outputs": [
        {
          "output_type": "execute_result",
          "data": {
            "text/plain": [
              "tensor([1, 2, 3], device='cuda:0')"
            ]
          },
          "metadata": {},
          "execution_count": 6
        }
      ]
    },
    {
      "cell_type": "code",
      "source": [
        "# If the tensor is on GPU, we cannot transform it to Numpy\n",
        "\n",
        "# To fix this we need to first shift the tensor back to the cpu\n",
        "\n",
        "tensor_on_cpu=tensor_on_gpu.to(device=\"cpu\")\n",
        "tensor_on_cpu, tensor_on_cpu.device"
      ],
      "metadata": {
        "colab": {
          "base_uri": "https://localhost:8080/"
        },
        "id": "-dr2zdU-4H3w",
        "outputId": "70681979-5cfd-4a00-8f9b-5e766b598cd8"
      },
      "execution_count": null,
      "outputs": [
        {
          "output_type": "execute_result",
          "data": {
            "text/plain": [
              "(tensor([1, 2, 3]), device(type='cpu'))"
            ]
          },
          "metadata": {},
          "execution_count": 8
        }
      ]
    },
    {
      "cell_type": "code",
      "source": [
        "tensor_on_cpu.numpy()"
      ],
      "metadata": {
        "colab": {
          "base_uri": "https://localhost:8080/"
        },
        "id": "RS2eauhF4x2m",
        "outputId": "306466cc-cca0-472b-d4a8-afa04a921719"
      },
      "execution_count": null,
      "outputs": [
        {
          "output_type": "execute_result",
          "data": {
            "text/plain": [
              "array([1, 2, 3])"
            ]
          },
          "metadata": {},
          "execution_count": 9
        }
      ]
    },
    {
      "cell_type": "markdown",
      "source": [
        "# Exercise Section"
      ],
      "metadata": {
        "id": "s1DApBUT55S0"
      }
    },
    {
      "cell_type": "markdown",
      "source": [
        "Create a random tensor with shape (7, 7)."
      ],
      "metadata": {
        "id": "4IJJF0XG59ZK"
      }
    },
    {
      "cell_type": "code",
      "source": [
        "tensor=torch.rand(7,7)\n",
        "tensor, tensor.shape"
      ],
      "metadata": {
        "colab": {
          "base_uri": "https://localhost:8080/"
        },
        "id": "dwJmeA3J43yY",
        "outputId": "fc3f875a-b709-4c99-db0d-db9b65e9ad45"
      },
      "execution_count": null,
      "outputs": [
        {
          "output_type": "execute_result",
          "data": {
            "text/plain": [
              "(tensor([[0.4494, 0.1783, 0.8426, 0.2414, 0.6649, 0.0401, 0.8233],\n",
              "         [0.3065, 0.5407, 0.3954, 0.7188, 0.6622, 0.3095, 0.1499],\n",
              "         [0.6007, 0.9909, 0.5579, 0.9651, 0.9878, 0.7673, 0.9164],\n",
              "         [0.4151, 0.8331, 0.3945, 0.7222, 0.8876, 0.4168, 0.1787],\n",
              "         [0.2375, 0.4681, 0.0436, 0.9587, 0.2053, 0.6275, 0.1026],\n",
              "         [0.2344, 0.5502, 0.8617, 0.1298, 0.7802, 0.4555, 0.6121],\n",
              "         [0.3592, 0.0130, 0.6246, 0.4301, 0.6976, 0.7371, 0.1714]]),\n",
              " torch.Size([7, 7]))"
            ]
          },
          "metadata": {},
          "execution_count": 13
        }
      ]
    },
    {
      "cell_type": "markdown",
      "source": [
        "Perform a matrix multiplication on the tensor from 2 with another random tensor with shape (1, 7) (hint: you may have to transpose the second tensor).\n"
      ],
      "metadata": {
        "id": "KWPCBkjO6tnJ"
      }
    },
    {
      "cell_type": "code",
      "source": [
        "tensor2=torch.rand(1,7)\n",
        "\n",
        "print(f\"The value of the second tensor is {tensor2}\")\n",
        "print(f\"The shape of the second tensor is {tensor2.shape}\")\n",
        "print(f\"The transposed version of the second tensor is {tensor2.T}\")"
      ],
      "metadata": {
        "colab": {
          "base_uri": "https://localhost:8080/"
        },
        "id": "0dxEtSDh6KJ-",
        "outputId": "3ac3fadf-d07c-4bc9-898e-db2339f80ae1"
      },
      "execution_count": null,
      "outputs": [
        {
          "output_type": "stream",
          "name": "stdout",
          "text": [
            "The value of the second tensor is tensor([[0.6183, 0.4711, 0.3800, 0.1107, 0.9405, 0.5363, 0.5720]])\n",
            "The shape of the second tensor is torch.Size([1, 7])\n",
            "The transposed version of the second tensor is tensor([[0.6183],\n",
            "        [0.4711],\n",
            "        [0.3800],\n",
            "        [0.1107],\n",
            "        [0.9405],\n",
            "        [0.5363],\n",
            "        [0.5720]])\n"
          ]
        }
      ]
    },
    {
      "cell_type": "code",
      "source": [
        "# Matrix Multiplication on both tensors\n",
        "\n",
        "torch.matmul(tensor, tensor2.T)"
      ],
      "metadata": {
        "colab": {
          "base_uri": "https://localhost:8080/"
        },
        "id": "mVurgZJd62FO",
        "outputId": "a96f7410-e60c-43e4-88bc-db082c0a595d"
      },
      "execution_count": null,
      "outputs": [
        {
          "output_type": "execute_result",
          "data": {
            "text/plain": [
              "tensor([[1.8265],\n",
              "        [1.5486],\n",
              "        [3.0218],\n",
              "        [2.0394],\n",
              "        [1.0784],\n",
              "        [2.0740],\n",
              "        [1.6626]])"
            ]
          },
          "metadata": {},
          "execution_count": 20
        }
      ]
    },
    {
      "cell_type": "markdown",
      "source": [
        "Set the random seed to 0 and do exercises 2 & 3 over again.\n"
      ],
      "metadata": {
        "id": "pMOeStGx8P7v"
      }
    },
    {
      "cell_type": "code",
      "source": [
        "random_seed=0\n",
        "\n",
        "torch.manual_seed(random_seed)\n",
        "tensor=torch.rand(7,7)\n",
        "\n",
        "torch.manual_seed(random_seed)\n",
        "tensor2=torch.rand(1,7)\n",
        "\n",
        "print(f\"The answer of multiplication is {torch.matmul(tensor, tensor2.T)}\")\n",
        "\n"
      ],
      "metadata": {
        "colab": {
          "base_uri": "https://localhost:8080/"
        },
        "id": "3IX2EDB_7OZF",
        "outputId": "79dc65f2-81bd-43e7-c61f-b81172c4f319"
      },
      "execution_count": null,
      "outputs": [
        {
          "output_type": "stream",
          "name": "stdout",
          "text": [
            "The answer of multiplication is tensor([[1.5985],\n",
            "        [1.1173],\n",
            "        [1.2741],\n",
            "        [1.6838],\n",
            "        [0.8279],\n",
            "        [1.0347],\n",
            "        [1.2498]])\n"
          ]
        }
      ]
    },
    {
      "cell_type": "markdown",
      "source": [
        "Speaking of random seeds, we saw how to set it with torch.manual_seed() but is there a GPU equivalent? (hint: you'll need to look into the documentation for torch.cuda for this one). If there is, set the GPU random seed to 1234.\n"
      ],
      "metadata": {
        "id": "hB2kfLnM8RCO"
      }
    },
    {
      "cell_type": "code",
      "source": [
        "tensor=torch.rand(7,7)\n",
        "tensor_on_gpu=tensor.to(device=\"cuda\")\n",
        "tensor_on_gpu.device\n",
        "\n",
        "torch.cuda.manual_seed(1234)\n",
        "tensor_on_gpu=torch.rand(7,7)\n",
        "\n",
        "tensor2=torch.rand(1,7)\n",
        "tensor2_on_gpu=tensor.to(device=\"cuda\")\n",
        "tensor2_on_gpu.device\n",
        "\n",
        "torch.cuda.manual_seed(1234)\n",
        "tensor_on_gpu2=torch.rand(1,7)\n",
        "\n",
        "print(f\"The answer of matrix multiplication is {torch.matmul(tensor_on_gpu, tensor_on_gpu2.T)}\")"
      ],
      "metadata": {
        "colab": {
          "base_uri": "https://localhost:8080/"
        },
        "id": "EuoXDQpW7rEh",
        "outputId": "a2c42eea-a87c-4a40-9423-7de499e11e73"
      },
      "execution_count": null,
      "outputs": [
        {
          "output_type": "stream",
          "name": "stdout",
          "text": [
            "The answer of matrix multiplication is tensor([[1.1274],\n",
            "        [2.4911],\n",
            "        [2.1696],\n",
            "        [1.5092],\n",
            "        [1.6439],\n",
            "        [2.3490],\n",
            "        [1.4221]])\n"
          ]
        }
      ]
    },
    {
      "cell_type": "markdown",
      "source": [
        "Create two random tensors of shape (2, 3) and send them both to the GPU (you'll need access to a GPU for this). Set torch.manual_seed(1234) when creating the tensors (this doesn't have to be the GPU random seed).\n"
      ],
      "metadata": {
        "id": "BIxXdmP3_5A4"
      }
    },
    {
      "cell_type": "code",
      "source": [
        "tensor=torch.rand(2,3)\n",
        "tensor_on_gpu=tensor.to(device=\"cuda\")\n",
        "tensor_on_gpu.device\n",
        "\n",
        "torch.manual_seed(1234)\n",
        "tensor_on_gpu=torch.rand(2,3)\n",
        "\n",
        "tensor2=torch.rand(2,3)\n",
        "tensor2_on_gpu=tensor.to(device=\"cuda\")\n",
        "tensor2_on_gpu.device\n",
        "\n",
        "torch.manual_seed(1234)\n",
        "tensor_on_gpu2=torch.rand(2,3)\n",
        "\n",
        "print(f\"The first tensor {tensor_on_gpu}\")\n",
        "print(f\"The second tensor {tensor_on_gpu2}\")\n",
        "\n"
      ],
      "metadata": {
        "colab": {
          "base_uri": "https://localhost:8080/"
        },
        "id": "f53j2CNv9p_B",
        "outputId": "a1f5068f-750d-429d-c6a6-836ae801ae37"
      },
      "execution_count": null,
      "outputs": [
        {
          "output_type": "stream",
          "name": "stdout",
          "text": [
            "The first tensor tensor([[0.0290, 0.4019, 0.2598],\n",
            "        [0.3666, 0.0583, 0.7006]])\n",
            "The second tensor tensor([[0.0290, 0.4019, 0.2598],\n",
            "        [0.3666, 0.0583, 0.7006]])\n"
          ]
        }
      ]
    },
    {
      "cell_type": "markdown",
      "source": [
        "Perform a matrix multiplication on the tensors you created in 6 (again, you may have to adjust the shapes of one of the tensors).\n"
      ],
      "metadata": {
        "id": "JxVLxWTSAUj-"
      }
    },
    {
      "cell_type": "code",
      "source": [
        "multiplicated_tensor=torch.matmul(tensor_on_gpu, tensor_on_gpu2.T)\n",
        "print(f\"The answer of matrix multiplication is {multiplicated_tensor}\")"
      ],
      "metadata": {
        "colab": {
          "base_uri": "https://localhost:8080/"
        },
        "id": "01NOcZX_ASIc",
        "outputId": "f0dab92a-bb93-4ed8-9942-486822904a14"
      },
      "execution_count": null,
      "outputs": [
        {
          "output_type": "stream",
          "name": "stdout",
          "text": [
            "The answer of matrix multiplication is tensor([[0.2299, 0.2161],\n",
            "        [0.2161, 0.6287]])\n"
          ]
        }
      ]
    },
    {
      "cell_type": "markdown",
      "source": [
        "Find the maximum and minimum values of the output of 7.\n"
      ],
      "metadata": {
        "id": "2weo0YcaAi8S"
      }
    },
    {
      "cell_type": "code",
      "source": [
        "print(f\"The maximum value of the output of question 7 is {torch.max(multiplicated_tensor)}\")\n",
        "print(f\"The minimum value of the output of question 7 is {torch.min(multiplicated_tensor)}\")\n"
      ],
      "metadata": {
        "colab": {
          "base_uri": "https://localhost:8080/"
        },
        "id": "exnHiLVWAfhM",
        "outputId": "00e68c55-211a-40b9-9f13-660cde1bc68f"
      },
      "execution_count": null,
      "outputs": [
        {
          "output_type": "stream",
          "name": "stdout",
          "text": [
            "The maximum value of the output of question 7 is 0.6287278532981873\n",
            "The minimum value of the output of question 7 is 0.21611443161964417\n"
          ]
        }
      ]
    },
    {
      "cell_type": "markdown",
      "source": [
        "Find the maximum and minimum index values of the output of 7.\n"
      ],
      "metadata": {
        "id": "YWJUFpZkBB5R"
      }
    },
    {
      "cell_type": "code",
      "source": [
        "print(f\"The index of the maximum value of the output of question 7 is {torch.argmax(multiplicated_tensor, dim=0)}\")\n",
        "print(f\"The index of the minimum value of the output of question 7 is {torch.argmin(multiplicated_tensor, dim=0)}\")\n",
        "\n",
        "print(f\"The index of the maximum value of the output of question 7 is {torch.argmax(multiplicated_tensor, dim=1)}\")\n",
        "print(f\"The index of the minimum value of the output of question 7 is {torch.argmin(multiplicated_tensor, dim=1)}\")"
      ],
      "metadata": {
        "colab": {
          "base_uri": "https://localhost:8080/"
        },
        "id": "u4cKx-7cA6ZA",
        "outputId": "02273cfa-6eb3-4210-e889-325da10e998d"
      },
      "execution_count": null,
      "outputs": [
        {
          "output_type": "stream",
          "name": "stdout",
          "text": [
            "The index of the maximum value of the output of question 7 is tensor([0, 1])\n",
            "The index of the minimum value of the output of question 7 is tensor([1, 0])\n",
            "The index of the maximum value of the output of question 7 is tensor([0, 1])\n",
            "The index of the minimum value of the output of question 7 is tensor([1, 0])\n"
          ]
        }
      ]
    },
    {
      "cell_type": "markdown",
      "source": [
        "Make a random tensor with shape (1, 1, 1, 10) and then create a new tensor with all the 1 dimensions removed to be left with a tensor of shape (10). Set the seed to 7 when you create it and print out the first tensor and it's shape as well as the second tensor and it's shape.\n"
      ],
      "metadata": {
        "id": "txt9zqLyBj2r"
      }
    },
    {
      "cell_type": "code",
      "source": [
        "seed_value=7\n",
        "torch.manual_seed(seed_value)\n",
        "tensor1=torch.rand(1,1,1,10)\n",
        "\n",
        "torch.manual_seed(seed_value)\n",
        "tensor2=torch.rand(10)\n",
        "\n",
        "print(f\"The first tensor {tensor1}\")\n",
        "print(f\"The second tensor {tensor2}\")\n",
        "\n",
        "print(f\"The shape of the first tensor {tensor1.shape}\")\n",
        "print(f\"The shape of the second tensor {tensor2.shape}\")"
      ],
      "metadata": {
        "colab": {
          "base_uri": "https://localhost:8080/"
        },
        "id": "YZyrE2eHBK-v",
        "outputId": "8474b322-9dd1-4721-8c6f-2ce227fa77e2"
      },
      "execution_count": null,
      "outputs": [
        {
          "output_type": "stream",
          "name": "stdout",
          "text": [
            "The first tensor tensor([[[[0.5349, 0.1988, 0.6592, 0.6569, 0.2328, 0.4251, 0.2071, 0.6297,\n",
            "           0.3653, 0.8513]]]])\n",
            "The second tensor tensor([0.5349, 0.1988, 0.6592, 0.6569, 0.2328, 0.4251, 0.2071, 0.6297, 0.3653,\n",
            "        0.8513])\n",
            "The shape of the first tensor torch.Size([1, 1, 1, 10])\n",
            "The shape of the second tensor torch.Size([10])\n"
          ]
        }
      ]
    },
    {
      "cell_type": "markdown",
      "source": [
        "# Section 2"
      ],
      "metadata": {
        "id": "5Mps6uYpES0r"
      }
    },
    {
      "cell_type": "markdown",
      "source": [
        "# In machine learning, we have three types of datasets.\n",
        "\n",
        "1. Training Dataset\n",
        "2. Validation Dataset\n",
        "3. Testing Dataset\n",
        "\n",
        "![image.png](data:image/png;base64,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)"
      ],
      "metadata": {
        "id": "d0AT9O8XGGlJ"
      }
    },
    {
      "cell_type": "markdown",
      "source": [
        "Training Dataset: Used to train the model by adjusting weights or parameters.\n",
        "\n",
        "Validation Dataset: Used to check the model’s performance during training, helping tune hyperparameters (e.g., learning rate, number of layers). It gives an idea of how well the model generalizes to new data.\n",
        "\n",
        "Test Dataset: Used to evaluate the model's performance after training is complete to estimate its accuracy."
      ],
      "metadata": {
        "id": "7K3dMW5gGzAu"
      }
    },
    {
      "cell_type": "code",
      "source": [
        "import torch\n",
        "from torch import nn #nn contains all of PyTorch's building blocks for neural networks"
      ],
      "metadata": {
        "id": "_BK7wID4GTZ4"
      },
      "execution_count": null,
      "outputs": []
    },
    {
      "cell_type": "code",
      "source": [
        "weight = 0.7\n",
        "bias = 0.3\n",
        "\n",
        "start=0\n",
        "end=1\n",
        "step=0.02\n",
        "X=torch.arange(start,end, step).unsqueeze(dim=1)\n",
        "y=weight*X+bias"
      ],
      "metadata": {
        "id": "W1nF8Nz0GZOm"
      },
      "execution_count": null,
      "outputs": []
    },
    {
      "cell_type": "code",
      "source": [
        "len(X), len(y)"
      ],
      "metadata": {
        "colab": {
          "base_uri": "https://localhost:8080/"
        },
        "id": "asNRohRkaoFP",
        "outputId": "9ca38e6d-ee15-401f-e076-f51ec40a6137"
      },
      "execution_count": null,
      "outputs": [
        {
          "output_type": "execute_result",
          "data": {
            "text/plain": [
              "(50, 50)"
            ]
          },
          "metadata": {},
          "execution_count": 70
        }
      ]
    },
    {
      "cell_type": "code",
      "source": [
        "train_split=int(0.8*len(X))\n",
        "X_train, y_train= X[:train_split], y[:train_split]\n",
        "X_test, y_test= X[train_split:], y[train_split:]"
      ],
      "metadata": {
        "id": "O_3-ncOFbO6w"
      },
      "execution_count": null,
      "outputs": []
    },
    {
      "cell_type": "code",
      "source": [
        "X_test"
      ],
      "metadata": {
        "colab": {
          "base_uri": "https://localhost:8080/"
        },
        "id": "fnpy5ws-mzu4",
        "outputId": "06751219-868f-4f29-c11f-94da8f28cf4f"
      },
      "execution_count": null,
      "outputs": [
        {
          "output_type": "execute_result",
          "data": {
            "text/plain": [
              "tensor([[0.8000],\n",
              "        [0.8200],\n",
              "        [0.8400],\n",
              "        [0.8600],\n",
              "        [0.8800],\n",
              "        [0.9000],\n",
              "        [0.9200],\n",
              "        [0.9400],\n",
              "        [0.9600],\n",
              "        [0.9800]])"
            ]
          },
          "metadata": {},
          "execution_count": 72
        }
      ]
    },
    {
      "cell_type": "code",
      "source": [
        "print(f\"The length of X_train is {len(X_train)}\")\n",
        "print(f\"The length of y_train is {len(y_train)}\")"
      ],
      "metadata": {
        "colab": {
          "base_uri": "https://localhost:8080/"
        },
        "id": "qulWhh8Bbfgi",
        "outputId": "4d206f79-8f88-4b30-f87e-fe038a41076c"
      },
      "execution_count": null,
      "outputs": [
        {
          "output_type": "stream",
          "name": "stdout",
          "text": [
            "The length of X_train is 40\n",
            "The length of y_train is 40\n"
          ]
        }
      ]
    },
    {
      "cell_type": "code",
      "source": [
        "print(f\"The length of X_test is {len(X_test)}\")\n",
        "print(f\"The length of y_test is {len(y_test)}\")"
      ],
      "metadata": {
        "colab": {
          "base_uri": "https://localhost:8080/"
        },
        "id": "2qlbPaaSby8t",
        "outputId": "7e8f53e5-0c20-4acb-d5bb-df4607a6c1e1"
      },
      "execution_count": null,
      "outputs": [
        {
          "output_type": "stream",
          "name": "stdout",
          "text": [
            "The length of X_test is 10\n",
            "The length of y_test is 10\n"
          ]
        }
      ]
    },
    {
      "cell_type": "code",
      "source": [
        "from matplotlib import pyplot as plt\n",
        "\n",
        "plt.figure(figsize=(10,6))\n",
        "training_data_plot=plt.scatter(X_train, y_train, c=\"b\", label=\"Training Data\")\n",
        "testing_data_plot=plt.scatter(X_test, y_test, c=\"r\", label=\"Testing Data\")\n",
        "plt.legend(loc=\"best\")\n",
        "plt.show()\n"
      ],
      "metadata": {
        "colab": {
          "base_uri": "https://localhost:8080/",
          "height": 401
        },
        "id": "lbLAbV3tcAqy",
        "outputId": "5fed4276-e4ca-43de-819b-5d4ef434985a"
      },
      "execution_count": null,
      "outputs": [
        {
          "output_type": "display_data",
          "data": {
            "text/plain": [
              "<Figure size 1000x600 with 1 Axes>"
            ],
            "image/png": "[encoded data removed]"
          },
          "metadata": {}
        }
      ]
    },
    {
      "cell_type": "markdown",
      "source": [
        "# Build the Model"
      ],
      "metadata": {
        "id": "yfIKjz5xdGAm"
      }
    },
    {
      "cell_type": "code",
      "source": [
        "class LinearRegression(nn.Module):\n",
        "  def __init__(self):\n",
        "    super().__init__()\n",
        "    self.weights=nn.Parameter(torch.randn(1,requires_grad=True, dtype=torch.float)) #requires_grad=True by default\n",
        "    self.bias=nn.Parameter(torch.randn(1,requires_grad=True,dtype=torch.float))\n",
        "\n",
        "  def forward(self, x: torch.Tensor) -> torch.Tensor: # <- \"x\" is the input data (e.g. training/testing features)\n",
        "        return self.weights * x + self.bias # <- this is the linear regression formula (y = m*x + b)\n"
      ],
      "metadata": {
        "id": "8T8W8ok4cuNV"
      },
      "execution_count": null,
      "outputs": []
    },
    {
      "cell_type": "code",
      "source": [
        "model=LinearRegression()\n",
        "\n",
        "# Check out the parameters of the model\n",
        "list(model.parameters())\n",
        "\n",
        "# Print out the weights and bias of the model in a structured way\n",
        "\n",
        "model.state_dict()"
      ],
      "metadata": {
        "id": "dbD5IfCrgX4n",
        "colab": {
          "base_uri": "https://localhost:8080/"
        },
        "outputId": "35d7f119-3ec1-4517-b2a7-bc2269e628c6"
      },
      "execution_count": null,
      "outputs": [
        {
          "output_type": "execute_result",
          "data": {
            "text/plain": [
              "OrderedDict([('weights', tensor([0.8806])), ('bias', tensor([-0.4939]))])"
            ]
          },
          "metadata": {},
          "execution_count": 77
        }
      ]
    },
    {
      "cell_type": "code",
      "source": [
        "weight, bias"
      ],
      "metadata": {
        "id": "g10DdJ2G8JRb",
        "colab": {
          "base_uri": "https://localhost:8080/"
        },
        "outputId": "0fe830dd-690f-4535-af02-33880f451ea3"
      },
      "execution_count": null,
      "outputs": [
        {
          "output_type": "execute_result",
          "data": {
            "text/plain": [
              "(0.7, 0.3)"
            ]
          },
          "metadata": {},
          "execution_count": 78
        }
      ]
    },
    {
      "cell_type": "markdown",
      "source": [
        "### Making prediction using *torch.inference_mode()*\n",
        "\n",
        "Inference is another word for prediction in PyTorch. To check out the accuracy of our model we will see how it predicts y_test based on X_test\n",
        "\n",
        "When we pass the data through our model it goes through the forward method"
      ],
      "metadata": {
        "id": "Pvlq5PCg-Ulr"
      }
    },
    {
      "cell_type": "code",
      "source": [
        "# Make predictions with our model\n",
        "with torch.inference_mode():\n",
        "  y_predicted=model(X_test)\n",
        "\n",
        "y_predicted"
      ],
      "metadata": {
        "id": "eNZaVDcj8L6l",
        "colab": {
          "base_uri": "https://localhost:8080/"
        },
        "outputId": "d2ce3178-abe9-43b9-bb01-3c84081b063b"
      },
      "execution_count": null,
      "outputs": [
        {
          "output_type": "execute_result",
          "data": {
            "text/plain": [
              "tensor([[0.2106],\n",
              "        [0.2282],\n",
              "        [0.2458],\n",
              "        [0.2634],\n",
              "        [0.2810],\n",
              "        [0.2986],\n",
              "        [0.3162],\n",
              "        [0.3338],\n",
              "        [0.3515],\n",
              "        [0.3691]])"
            ]
          },
          "metadata": {},
          "execution_count": 79
        }
      ]
    },
    {
      "cell_type": "code",
      "source": [
        "# We can also do the same without the inference mode\n",
        "\n",
        "y_preds=model(X_test)\n",
        "y_preds\n",
        "\n",
        "# We can see the difference between both of the outputs. One has the grad function and one does not.\n",
        "# The inference mode turns off the grad function to make the predictions faster. It does not train the\n",
        "# model. Whereas, the above method keeps the grad method"
      ],
      "metadata": {
        "id": "d80m6dYG_C64",
        "colab": {
          "base_uri": "https://localhost:8080/"
        },
        "outputId": "42c64c9e-262b-49b5-bc67-8f5691aac22d"
      },
      "execution_count": null,
      "outputs": [
        {
          "output_type": "execute_result",
          "data": {
            "text/plain": [
              "tensor([[0.2106],\n",
              "        [0.2282],\n",
              "        [0.2458],\n",
              "        [0.2634],\n",
              "        [0.2810],\n",
              "        [0.2986],\n",
              "        [0.3162],\n",
              "        [0.3338],\n",
              "        [0.3515],\n",
              "        [0.3691]], grad_fn=<AddBackward0>)"
            ]
          },
          "metadata": {},
          "execution_count": 80
        }
      ]
    },
    {
      "cell_type": "code",
      "source": [
        "# Plotting the predicted values with the actual values we want\n",
        "\n",
        "plt.figure(figsize=(10,6))\n",
        "training_data_plot=plt.scatter(X_train, y_train, c=\"b\", label=\"Training Data\")\n",
        "testing_data_plot=plt.scatter(X_test, y_test, c=\"r\", label=\"Testing Data\")\n",
        "predicted_data_plot=plt.scatter(X_test, y_predicted, c=\"g\", label=\"Predicted Data\")\n",
        "plt.legend(loc=\"best\")\n",
        "plt.title(\"Actual Data vs Predicted Data Plot\")\n",
        "plt.show()"
      ],
      "metadata": {
        "id": "hqTTQzO3_gXi",
        "colab": {
          "base_uri": "https://localhost:8080/",
          "height": 419
        },
        "outputId": "196c4411-f2a2-4aa4-b4f7-4f0a5ff69fe4"
      },
      "execution_count": null,
      "outputs": [
        {
          "output_type": "display_data",
          "data": {
            "text/plain": [
              "<Figure size 1000x600 with 1 Axes>"
            ],
            "image/png": "[encoded data removed]"
          },
          "metadata": {}
        }
      ]
    },
    {
      "cell_type": "markdown",
      "source": [
        "\n",
        "\n",
        "**Loss Function:** It measures how far your predicted values are from the actual values.\n",
        "\n",
        "Our main goal is to reduce the loss function, the lower the better.\n",
        "\n",
        "**Optimizer:** It takes into account the loss of the model and then adjust the weights and bias to improve the function."
      ],
      "metadata": {
        "id": "CDczQUGSA6SE"
      }
    },
    {
      "cell_type": "markdown",
      "source": [
        "We will use a loss function, there are many loss functions available are available in PyTorch. Lets use **Mean Absolute Error (MAE)**:\n",
        "\n",
        "https://pytorch.org/docs/main/nn.html#loss-functions"
      ],
      "metadata": {
        "id": "UQVsF_N-C5R0"
      }
    },
    {
      "cell_type": "markdown",
      "source": [
        "\n",
        "Lets use an optimizer as well which will reduce our cost function. For, simplicity lets use Stochastic Gradient Descent.\n",
        "\n",
        "https://pytorch.org/docs/stable/optim.html"
      ],
      "metadata": {
        "id": "xCjzKDEeD1S0"
      }
    },
    {
      "cell_type": "code",
      "source": [
        "# Setup a loss function\n",
        "loss=nn.L1Loss()\n",
        "\n",
        "# Setup an optimizer\n",
        "\n",
        "optimizer=torch.optim.SGD(params=model.parameters(), lr=0.01)"
      ],
      "metadata": {
        "id": "3e1SbjrxDw9v"
      },
      "execution_count": null,
      "outputs": []
    },
    {
      "cell_type": "code",
      "source": [
        "# Lets create the pytorch training loop\n",
        "\n",
        "torch.manual_seed=42\n",
        "epochs=500\n",
        "training_loss_values=[]\n",
        "testing_loss_values=[]\n",
        "epoch_count=[]\n",
        "\n",
        "for epoch in range(epochs):\n",
        "  # Put the model in the training mode\n",
        "  model.train()\n",
        "\n",
        "  # Forward pass on train data using the forward() method inside\n",
        "  y_pred=model(X_train)\n",
        "\n",
        "  # Calculate the loss (how different are our models predictions to the ground truth)\n",
        "  loss_value=loss(y_pred, y_train)\n",
        "\n",
        "  # This clears any previously computed gradients\n",
        "  optimizer.zero_grad()\n",
        "\n",
        "  # This computes the gradients of the loss with respect to the model's parameters using backpropagation\n",
        "  loss_value.backward()\n",
        "\n",
        "  # This updates the model's parameters (weights) based on the computed gradients\n",
        "  optimizer.step()\n",
        "\n",
        "  # Now this is the testing loop\n",
        "  model.eval() #It turns off the training and tells the model that it is in the testing phase\n",
        "\n",
        "  # Make predictions using torch.inference_mode(), it turns of gradient tracking\n",
        "  with torch.inference_mode():\n",
        "    test_pred=model(X_test)\n",
        "\n",
        "  # Calculate the testing loss\n",
        "  test_loss=loss(test_pred,y_test)\n",
        "\n",
        "  # Display the information\n",
        "  if epoch % 10 == 0:\n",
        "    print(f\"Epoch: {epoch} | Train Loss: {loss_value} | Testing Loss: {test_loss}\")\n",
        "\n",
        "    print(model.state_dict())\n",
        "    print(\"\\n\")\n",
        "    epoch_count.append(epoch)\n",
        "    training_loss_values.append(loss_value.item())\n",
        "    testing_loss_values.append(test_loss.item())\n"
      ],
      "metadata": {
        "id": "-bsLFRdcFMnz",
        "colab": {
          "base_uri": "https://localhost:8080/"
        },
        "outputId": "925d7224-2a4e-425a-c890-34ac66fb4cb9"
      },
      "execution_count": null,
      "outputs": [
        {
          "output_type": "stream",
          "name": "stdout",
          "text": [
            "Epoch: 0 | Train Loss: 0.7234634160995483 | Testing Loss: 0.6197106242179871\n",
            "OrderedDict([('weights', tensor([0.8845])), ('bias', tensor([-0.4839]))])\n",
            "\n",
            "\n",
            "Epoch: 10 | Train Loss: 0.6082535982131958 | Testing Loss: 0.4850007891654968\n",
            "OrderedDict([('weights', tensor([0.9235])), ('bias', tensor([-0.3839]))])\n",
            "\n",
            "\n",
            "Epoch: 20 | Train Loss: 0.4930436611175537 | Testing Loss: 0.3502909541130066\n",
            "OrderedDict([('weights', tensor([0.9625])), ('bias', tensor([-0.2839]))])\n",
            "\n",
            "\n",
            "Epoch: 30 | Train Loss: 0.37783369421958923 | Testing Loss: 0.21558097004890442\n",
            "OrderedDict([('weights', tensor([1.0015])), ('bias', tensor([-0.1839]))])\n",
            "\n",
            "\n",
            "Epoch: 40 | Train Loss: 0.26262348890304565 | Testing Loss: 0.08087050914764404\n",
            "OrderedDict([('weights', tensor([1.0405])), ('bias', tensor([-0.0839]))])\n",
            "\n",
            "\n",
            "Epoch: 50 | Train Loss: 0.14741332828998566 | Testing Loss: 0.053839974105358124\n",
            "OrderedDict([('weights', tensor([1.0795])), ('bias', tensor([0.0161]))])\n",
            "\n",
            "\n",
            "Epoch: 60 | Train Loss: 0.09468702971935272 | Testing Loss: 0.1298905611038208\n",
            "OrderedDict([('weights', tensor([1.0930])), ('bias', tensor([0.0801]))])\n",
            "\n",
            "\n",
            "Epoch: 70 | Train Loss: 0.08245782554149628 | Testing Loss: 0.15779773890972137\n",
            "OrderedDict([('weights', tensor([1.0878])), ('bias', tensor([0.1126]))])\n",
            "\n",
            "\n",
            "Epoch: 80 | Train Loss: 0.07722489535808563 | Testing Loss: 0.16554665565490723\n",
            "OrderedDict([('weights', tensor([1.0758])), ('bias', tensor([0.1311]))])\n",
            "\n",
            "\n",
            "Epoch: 90 | Train Loss: 0.07339949905872345 | Testing Loss: 0.1641789674758911\n",
            "OrderedDict([('weights', tensor([1.0607])), ('bias', tensor([0.1431]))])\n",
            "\n",
            "\n",
            "Epoch: 100 | Train Loss: 0.06987137347459793 | Testing Loss: 0.16002783179283142\n",
            "OrderedDict([('weights', tensor([1.0448])), ('bias', tensor([0.1531]))])\n",
            "\n",
            "\n",
            "Epoch: 110 | Train Loss: 0.06637649238109589 | Testing Loss: 0.15450306236743927\n",
            "OrderedDict([('weights', tensor([1.0285])), ('bias', tensor([0.1621]))])\n",
            "\n",
            "\n",
            "Epoch: 120 | Train Loss: 0.06293876469135284 | Testing Loss: 0.14623089134693146\n",
            "OrderedDict([('weights', tensor([1.0114])), ('bias', tensor([0.1691]))])\n",
            "\n",
            "\n",
            "Epoch: 130 | Train Loss: 0.05950307101011276 | Testing Loss: 0.1386454850435257\n",
            "OrderedDict([('weights', tensor([0.9944])), ('bias', tensor([0.1766]))])\n",
            "\n",
            "\n",
            "Epoch: 140 | Train Loss: 0.05607398599386215 | Testing Loss: 0.1303730010986328\n",
            "OrderedDict([('weights', tensor([0.9773])), ('bias', tensor([0.1836]))])\n",
            "\n",
            "\n",
            "Epoch: 150 | Train Loss: 0.052635181695222855 | Testing Loss: 0.12210051715373993\n",
            "OrderedDict([('weights', tensor([0.9601])), ('bias', tensor([0.1906]))])\n",
            "\n",
            "\n",
            "Epoch: 160 | Train Loss: 0.0492011234164238 | Testing Loss: 0.11451494693756104\n",
            "OrderedDict([('weights', tensor([0.9431])), ('bias', tensor([0.1981]))])\n",
            "\n",
            "\n",
            "Epoch: 170 | Train Loss: 0.04577036201953888 | Testing Loss: 0.10624246299266815\n",
            "OrderedDict([('weights', tensor([0.9260])), ('bias', tensor([0.2051]))])\n",
            "\n",
            "\n",
            "Epoch: 180 | Train Loss: 0.04233155399560928 | Testing Loss: 0.09796997159719467\n",
            "OrderedDict([('weights', tensor([0.9088])), ('bias', tensor([0.2121]))])\n",
            "\n",
            "\n",
            "Epoch: 190 | Train Loss: 0.03889917582273483 | Testing Loss: 0.09038437902927399\n",
            "OrderedDict([('weights', tensor([0.8919])), ('bias', tensor([0.2196]))])\n",
            "\n",
            "\n",
            "Epoch: 200 | Train Loss: 0.03546672314405441 | Testing Loss: 0.0821119174361229\n",
            "OrderedDict([('weights', tensor([0.8747])), ('bias', tensor([0.2266]))])\n",
            "\n",
            "\n",
            "Epoch: 210 | Train Loss: 0.032027922570705414 | Testing Loss: 0.07383942604064941\n",
            "OrderedDict([('weights', tensor([0.8576])), ('bias', tensor([0.2336]))])\n",
            "\n",
            "\n",
            "Epoch: 220 | Train Loss: 0.028597217053174973 | Testing Loss: 0.06625383347272873\n",
            "OrderedDict([('weights', tensor([0.8406])), ('bias', tensor([0.2411]))])\n",
            "\n",
            "\n",
            "Epoch: 230 | Train Loss: 0.025163089856505394 | Testing Loss: 0.05798134207725525\n",
            "OrderedDict([('weights', tensor([0.8234])), ('bias', tensor([0.2481]))])\n",
            "\n",
            "\n",
            "Epoch: 240 | Train Loss: 0.021724293008446693 | Testing Loss: 0.04970882460474968\n",
            "OrderedDict([('weights', tensor([0.8063])), ('bias', tensor([0.2551]))])\n",
            "\n",
            "\n",
            "Epoch: 250 | Train Loss: 0.0182952880859375 | Testing Loss: 0.042123179882764816\n",
            "OrderedDict([('weights', tensor([0.7893])), ('bias', tensor([0.2626]))])\n",
            "\n",
            "\n",
            "Epoch: 260 | Train Loss: 0.01485947985202074 | Testing Loss: 0.03385062888264656\n",
            "OrderedDict([('weights', tensor([0.7722])), ('bias', tensor([0.2696]))])\n",
            "\n",
            "\n",
            "Epoch: 270 | Train Loss: 0.011421791277825832 | Testing Loss: 0.026264959946274757\n",
            "OrderedDict([('weights', tensor([0.7552])), ('bias', tensor([0.2771]))])\n",
            "\n",
            "\n",
            "Epoch: 280 | Train Loss: 0.00799335353076458 | Testing Loss: 0.017992431297898293\n",
            "OrderedDict([('weights', tensor([0.7381])), ('bias', tensor([0.2841]))])\n",
            "\n",
            "\n",
            "Epoch: 290 | Train Loss: 0.004555859602987766 | Testing Loss: 0.009719884023070335\n",
            "OrderedDict([('weights', tensor([0.7209])), ('bias', tensor([0.2911]))])\n",
            "\n",
            "\n",
            "Epoch: 300 | Train Loss: 0.0012179345358163118 | Testing Loss: 0.00502428412437439\n",
            "OrderedDict([('weights', tensor([0.7050])), ('bias', tensor([0.3006]))])\n",
            "\n",
            "\n",
            "Epoch: 310 | Train Loss: 0.008973466232419014 | Testing Loss: 0.00502428412437439\n",
            "OrderedDict([('weights', tensor([0.7050])), ('bias', tensor([0.3006]))])\n",
            "\n",
            "\n",
            "Epoch: 320 | Train Loss: 0.008973466232419014 | Testing Loss: 0.00502428412437439\n",
            "OrderedDict([('weights', tensor([0.7050])), ('bias', tensor([0.3006]))])\n",
            "\n",
            "\n",
            "Epoch: 330 | Train Loss: 0.008973466232419014 | Testing Loss: 0.00502428412437439\n",
            "OrderedDict([('weights', tensor([0.7050])), ('bias', tensor([0.3006]))])\n",
            "\n",
            "\n",
            "Epoch: 340 | Train Loss: 0.008973466232419014 | Testing Loss: 0.00502428412437439\n",
            "OrderedDict([('weights', tensor([0.7050])), ('bias', tensor([0.3006]))])\n",
            "\n",
            "\n",
            "Epoch: 350 | Train Loss: 0.008973466232419014 | Testing Loss: 0.00502428412437439\n",
            "OrderedDict([('weights', tensor([0.7050])), ('bias', tensor([0.3006]))])\n",
            "\n",
            "\n",
            "Epoch: 360 | Train Loss: 0.008973466232419014 | Testing Loss: 0.00502428412437439\n",
            "OrderedDict([('weights', tensor([0.7050])), ('bias', tensor([0.3006]))])\n",
            "\n",
            "\n",
            "Epoch: 370 | Train Loss: 0.008973466232419014 | Testing Loss: 0.00502428412437439\n",
            "OrderedDict([('weights', tensor([0.7050])), ('bias', tensor([0.3006]))])\n",
            "\n",
            "\n",
            "Epoch: 380 | Train Loss: 0.008973466232419014 | Testing Loss: 0.00502428412437439\n",
            "OrderedDict([('weights', tensor([0.7050])), ('bias', tensor([0.3006]))])\n",
            "\n",
            "\n",
            "Epoch: 390 | Train Loss: 0.008973466232419014 | Testing Loss: 0.00502428412437439\n",
            "OrderedDict([('weights', tensor([0.7050])), ('bias', tensor([0.3006]))])\n",
            "\n",
            "\n",
            "Epoch: 400 | Train Loss: 0.008973466232419014 | Testing Loss: 0.00502428412437439\n",
            "OrderedDict([('weights', tensor([0.7050])), ('bias', tensor([0.3006]))])\n",
            "\n",
            "\n",
            "Epoch: 410 | Train Loss: 0.008973466232419014 | Testing Loss: 0.00502428412437439\n",
            "OrderedDict([('weights', tensor([0.7050])), ('bias', tensor([0.3006]))])\n",
            "\n",
            "\n",
            "Epoch: 420 | Train Loss: 0.008973466232419014 | Testing Loss: 0.00502428412437439\n",
            "OrderedDict([('weights', tensor([0.7050])), ('bias', tensor([0.3006]))])\n",
            "\n",
            "\n",
            "Epoch: 430 | Train Loss: 0.008973466232419014 | Testing Loss: 0.00502428412437439\n",
            "OrderedDict([('weights', tensor([0.7050])), ('bias', tensor([0.3006]))])\n",
            "\n",
            "\n",
            "Epoch: 440 | Train Loss: 0.008973466232419014 | Testing Loss: 0.00502428412437439\n",
            "OrderedDict([('weights', tensor([0.7050])), ('bias', tensor([0.3006]))])\n",
            "\n",
            "\n",
            "Epoch: 450 | Train Loss: 0.008973466232419014 | Testing Loss: 0.00502428412437439\n",
            "OrderedDict([('weights', tensor([0.7050])), ('bias', tensor([0.3006]))])\n",
            "\n",
            "\n",
            "Epoch: 460 | Train Loss: 0.008973466232419014 | Testing Loss: 0.00502428412437439\n",
            "OrderedDict([('weights', tensor([0.7050])), ('bias', tensor([0.3006]))])\n",
            "\n",
            "\n",
            "Epoch: 470 | Train Loss: 0.008973466232419014 | Testing Loss: 0.00502428412437439\n",
            "OrderedDict([('weights', tensor([0.7050])), ('bias', tensor([0.3006]))])\n",
            "\n",
            "\n",
            "Epoch: 480 | Train Loss: 0.008973466232419014 | Testing Loss: 0.00502428412437439\n",
            "OrderedDict([('weights', tensor([0.7050])), ('bias', tensor([0.3006]))])\n",
            "\n",
            "\n",
            "Epoch: 490 | Train Loss: 0.008973466232419014 | Testing Loss: 0.00502428412437439\n",
            "OrderedDict([('weights', tensor([0.7050])), ('bias', tensor([0.3006]))])\n",
            "\n",
            "\n"
          ]
        }
      ]
    },
    {
      "cell_type": "code",
      "source": [
        "print(f\"The original weight: \", weight)\n",
        "print(f\"The original bias: \", bias)"
      ],
      "metadata": {
        "id": "YDmG1Ha6fMFk",
        "colab": {
          "base_uri": "https://localhost:8080/"
        },
        "outputId": "139ec901-d230-4221-eab5-e56b0c42d0c3"
      },
      "execution_count": null,
      "outputs": [
        {
          "output_type": "stream",
          "name": "stdout",
          "text": [
            "The original weight:  0.7\n",
            "The original bias:  0.3\n"
          ]
        }
      ]
    },
    {
      "cell_type": "code",
      "source": [
        "# Make predictions with our model\n",
        "with torch.inference_mode():\n",
        "  y_predicted_new=model(X_test)\n",
        "\n",
        "y_predicted_new"
      ],
      "metadata": {
        "id": "7bhgFyrZfRZ-",
        "colab": {
          "base_uri": "https://localhost:8080/"
        },
        "outputId": "5cb44d4f-3b06-4481-bfeb-982d65b05229"
      },
      "execution_count": null,
      "outputs": [
        {
          "output_type": "execute_result",
          "data": {
            "text/plain": [
              "tensor([[0.8515],\n",
              "        [0.8655],\n",
              "        [0.8795],\n",
              "        [0.8935],\n",
              "        [0.9075],\n",
              "        [0.9216],\n",
              "        [0.9356],\n",
              "        [0.9496],\n",
              "        [0.9636],\n",
              "        [0.9776]])"
            ]
          },
          "metadata": {},
          "execution_count": 85
        }
      ]
    },
    {
      "cell_type": "code",
      "source": [
        "# Plotting the predicted values with the actual values we want\n",
        "\n",
        "plt.figure(figsize=(10,6))\n",
        "training_data_plot=plt.scatter(X_train, y_train, c=\"b\", label=\"Training Data\")\n",
        "testing_data_plot=plt.scatter(X_test, y_test, c=\"r\", label=\"Testing Data\")\n",
        "predicted_data_plot=plt.scatter(X_test, y_predicted, c=\"g\", label=\"Predicted Data\")\n",
        "new_predicted_data_plot=plt.scatter(X_test, y_predicted_new, c=\"y\", label=\"New Predicted Data\")\n",
        "plt.legend(loc=\"best\")\n",
        "plt.title(\"Actual Data vs Predicted Data Plot\")\n",
        "plt.show()"
      ],
      "metadata": {
        "id": "jGdWHhSVgR5g",
        "colab": {
          "base_uri": "https://localhost:8080/",
          "height": 419
        },
        "outputId": "da2150c0-c1da-43d7-8033-40590e93631d"
      },
      "execution_count": null,
      "outputs": [
        {
          "output_type": "display_data",
          "data": {
            "text/plain": [
              "<Figure size 1000x600 with 1 Axes>"
            ],
            "image/png": "[encoded data removed]"
          },
          "metadata": {}
        }
      ]
    },
    {
      "cell_type": "code",
      "source": [
        "plt.plot(epoch_count, training_loss_values, c=\"r\",label=\"Training Loss\")\n",
        "plt.plot(epoch_count, testing_loss_values, c=\"b\", label=\"Testing Loss\")\n",
        "plt.title(\"Loss values vs Epoch\")\n",
        "plt.legend()\n",
        "plt.show()"
      ],
      "metadata": {
        "id": "6RdlHBOQgcWv",
        "colab": {
          "base_uri": "https://localhost:8080/",
          "height": 452
        },
        "outputId": "17ce6a73-1d5d-4291-801e-53195d4f3bac"
      },
      "execution_count": null,
      "outputs": [
        {
          "output_type": "display_data",
          "data": {
            "text/plain": [
              "<Figure size 640x480 with 1 Axes>"
            ],
            "image/png": "[encoded data removed]"
          },
          "metadata": {}
        }
      ]
    },
    {
      "cell_type": "markdown",
      "source": [
        "## Saving a Model in PyTorch\n",
        "\n",
        "There are three methods to load and save the model in PyTorch.\n",
        "\n",
        "1. torch.save()\n",
        "2. torch.load()\n",
        "3. torch.nn.Module.load_state_dict()\n",
        "\n",
        "https://pytorch.org/tutorials/beginner/saving_loading_models.html"
      ],
      "metadata": {
        "id": "GPDpQK2nsgJ4"
      }
    },
    {
      "cell_type": "code",
      "source": [
        "torch.save(model, \"entire_model.pth\")"
      ],
      "metadata": {
        "id": "ChZrxUDV92x-"
      },
      "execution_count": null,
      "outputs": []
    },
    {
      "cell_type": "code",
      "source": [
        "model.state_dict()"
      ],
      "metadata": {
        "colab": {
          "base_uri": "https://localhost:8080/"
        },
        "id": "UaMEyfy5CpcJ",
        "outputId": "c807ff3a-23ea-40a3-bf4e-5a69bad79d79"
      },
      "execution_count": null,
      "outputs": [
        {
          "output_type": "execute_result",
          "data": {
            "text/plain": [
              "OrderedDict([('weights', tensor([0.7011])), ('bias', tensor([0.2906]))])"
            ]
          },
          "metadata": {},
          "execution_count": 89
        }
      ]
    },
    {
      "cell_type": "code",
      "source": [
        "model0=torch.load(\"entire_model.pth\")"
      ],
      "metadata": {
        "id": "5ed8dDtW-Q4H",
        "colab": {
          "base_uri": "https://localhost:8080/"
        },
        "outputId": "7296e740-8f72-414d-e4fd-d0d747e0d5bd"
      },
      "execution_count": null,
      "outputs": [
        {
          "output_type": "stream",
          "name": "stderr",
          "text": [
            "<ipython-input-90-18d9b20755aa>:1: FutureWarning: You are using `torch.load` with `weights_only=False` (the current default value), which uses the default pickle module implicitly. It is possible to construct malicious pickle data which will execute arbitrary code during unpickling (See https://github.com/pytorch/pytorch/blob/main/SECURITY.md#untrusted-models for more details). In a future release, the default value for `weights_only` will be flipped to `True`. This limits the functions that could be executed during unpickling. Arbitrary objects will no longer be allowed to be loaded via this mode unless they are explicitly allowlisted by the user via `torch.serialization.add_safe_globals`. We recommend you start setting `weights_only=True` for any use case where you don't have full control of the loaded file. Please open an issue on GitHub for any issues related to this experimental feature.\n",
            "  model0=torch.load(\"entire_model.pth\")\n"
          ]
        }
      ]
    },
    {
      "cell_type": "code",
      "source": [
        "model0.state_dict()"
      ],
      "metadata": {
        "colab": {
          "base_uri": "https://localhost:8080/"
        },
        "id": "DqStksiHCI26",
        "outputId": "0f14f25b-954d-428a-df5e-48f29b8c65d6"
      },
      "execution_count": null,
      "outputs": [
        {
          "output_type": "execute_result",
          "data": {
            "text/plain": [
              "OrderedDict([('weights', tensor([0.7011])), ('bias', tensor([0.2906]))])"
            ]
          },
          "metadata": {},
          "execution_count": 92
        }
      ]
    },
    {
      "cell_type": "code",
      "source": [
        "# It is recommended to save the model's state_dict\n",
        "\n",
        "from pathlib import Path\n",
        "\n",
        "# Create a model's directory\n",
        "model_path=Path(\"models\")\n",
        "model_path.mkdir(parents=True, exist_ok=True)\n",
        "\n",
        "# Create a model save path\n",
        "model_name=\"LinearRegressionModel_using_PyTorch\"\n",
        "model_save_path= model_path / model_name\n",
        "\n",
        "model_save_path\n",
        "\n",
        "# Saving the model's state_dict()\n",
        "print(f\"Saving the model to {model_save_path}\")\n",
        "torch.save(obj=model.state_dict(),f=model_save_path)"
      ],
      "metadata": {
        "colab": {
          "base_uri": "https://localhost:8080/"
        },
        "id": "MzfFtLJvClpq",
        "outputId": "63c448e9-2c22-4b3d-9fdd-7391d551740c"
      },
      "execution_count": null,
      "outputs": [
        {
          "output_type": "stream",
          "name": "stdout",
          "text": [
            "Saving the model to models/LinearRegressionModel_using_PyTorch\n"
          ]
        }
      ]
    },
    {
      "cell_type": "code",
      "source": [
        "loaded_model=LinearRegression()\n",
        "loaded_model.load_state_dict(torch.load(f=model_save_path))"
      ],
      "metadata": {
        "id": "bj1bXi_sFAKi",
        "colab": {
          "base_uri": "https://localhost:8080/"
        },
        "outputId": "33b37019-804a-44df-980b-d2ec6953774e"
      },
      "execution_count": null,
      "outputs": [
        {
          "output_type": "stream",
          "name": "stderr",
          "text": [
            "<ipython-input-100-2d530351878e>:2: FutureWarning: You are using `torch.load` with `weights_only=False` (the current default value), which uses the default pickle module implicitly. It is possible to construct malicious pickle data which will execute arbitrary code during unpickling (See https://github.com/pytorch/pytorch/blob/main/SECURITY.md#untrusted-models for more details). In a future release, the default value for `weights_only` will be flipped to `True`. This limits the functions that could be executed during unpickling. Arbitrary objects will no longer be allowed to be loaded via this mode unless they are explicitly allowlisted by the user via `torch.serialization.add_safe_globals`. We recommend you start setting `weights_only=True` for any use case where you don't have full control of the loaded file. Please open an issue on GitHub for any issues related to this experimental feature.\n",
            "  loaded_model.load_state_dict(torch.load(f=model_save_path))\n"
          ]
        },
        {
          "output_type": "execute_result",
          "data": {
            "text/plain": [
              "<All keys matched successfully>"
            ]
          },
          "metadata": {},
          "execution_count": 100
        }
      ]
    },
    {
      "cell_type": "code",
      "source": [
        "loaded_model.state_dict()"
      ],
      "metadata": {
        "colab": {
          "base_uri": "https://localhost:8080/"
        },
        "id": "5ymQbs3nGR9B",
        "outputId": "d779b939-15de-41f9-f4e1-5253e1501d83"
      },
      "execution_count": null,
      "outputs": [
        {
          "output_type": "execute_result",
          "data": {
            "text/plain": [
              "OrderedDict([('weights', tensor([0.7011])), ('bias', tensor([0.2906]))])"
            ]
          },
          "metadata": {},
          "execution_count": 101
        }
      ]
    }
  ]
}